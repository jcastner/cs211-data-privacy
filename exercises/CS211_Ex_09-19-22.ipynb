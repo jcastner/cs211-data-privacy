{
 "cells": [
  {
   "cell_type": "markdown",
   "metadata": {},
   "source": [
    "# CS211: Data Privacy\n",
    "## In-Class Exercise, 9/19/2022"
   ]
  },
  {
   "cell_type": "code",
   "execution_count": 2,
   "metadata": {},
   "outputs": [],
   "source": [
    "# Load the data and libraries\n",
    "import pandas as pd\n",
    "import numpy as np\n",
    "from scipy import stats\n",
    "import matplotlib.pyplot as plt\n",
    "plt.style.use('seaborn-whitegrid')\n",
    "\n",
    "adult = pd.read_csv('https://github.com/jnear/cs211-data-privacy/raw/master/homework/adult_with_pii.csv')\n",
    "\n",
    "# How much noise?! -> depends on the senesitivity of the data and the epsilon value\n",
    "# Sensitivity measures teh influence of one person on the queries output\n",
    "# max: x and x_prime to distinguish between neighboring datasets?\n",
    "# how does f(x) change if one persons data is changed defines the sensitivity of a data point"
   ]
  },
  {
   "cell_type": "markdown",
   "metadata": {},
   "source": [
    "## Question 1\n",
    "\n",
    "Implement the Laplace mechanism below."
   ]
  },
  {
   "cell_type": "code",
   "execution_count": 3,
   "metadata": {
    "deletable": false,
    "nbgrader": {
     "cell_type": "code",
     "checksum": "d0a62ab566a1db45cf1dd2f3aa79384d",
     "grade": false,
     "grade_id": "cell-9f17a2616172b172",
     "locked": false,
     "schema_version": 3,
     "solution": true,
     "task": false
    }
   },
   "outputs": [],
   "source": [
    "def laplace_mech(v, sensitivity, epsilon):\n",
    "    return v + np.random.laplace(loc=0, scale=sensitivity/epsilon)"
   ]
  },
  {
   "cell_type": "code",
   "execution_count": 4,
   "metadata": {
    "deletable": false,
    "editable": false,
    "nbgrader": {
     "cell_type": "code",
     "checksum": "2545cadb169227b7ccea2d13122cdc24",
     "grade": true,
     "grade_id": "cell-cae8dc00eebe8255",
     "locked": true,
     "points": 5,
     "schema_version": 3,
     "solution": false,
     "task": false
    }
   },
   "outputs": [],
   "source": [
    "# TEST CASE for question 1\n",
    "dist1 = [laplace_mech(50, 1, 1.0) for _ in range(200)]\n",
    "dist2 = [np.random.laplace(loc=50, scale=1) for _ in range(200)]\n",
    "\n",
    "assert stats.wasserstein_distance(dist1, dist2) < 1"
   ]
  },
  {
   "cell_type": "markdown",
   "metadata": {},
   "source": [
    "## Question 2\n",
    "\n",
    "Write a query to count the number of people over age 30 (a property of data), with differntial privacy(ep=1)"
   ]
  },
  {
   "cell_type": "code",
   "execution_count": 5,
   "metadata": {
    "deletable": false,
    "nbgrader": {
     "cell_type": "code",
     "checksum": "60c406d55d15773e9f71638c6834ac41",
     "grade": false,
     "grade_id": "cell-9439553739156776",
     "locked": false,
     "schema_version": 3,
     "solution": true,
     "task": false
    }
   },
   "outputs": [
    {
     "data": {
      "text/plain": [
       "21988.302931781298"
      ]
     },
     "execution_count": 5,
     "metadata": {},
     "output_type": "execute_result"
    }
   ],
   "source": [
    "def people_over_30_dp():\n",
    "    true_answer = len(adult[adult['Age'] > 30])\n",
    "    epsilon = 1\n",
    "    return laplace_mech(true_answer, 1, epsilon) # Anything involved with counting a property should have a sensitivity of 1 \n",
    "\n",
    "people_over_30_dp()"
   ]
  },
  {
   "cell_type": "code",
   "execution_count": 6,
   "metadata": {
    "deletable": false,
    "editable": false,
    "nbgrader": {
     "cell_type": "code",
     "checksum": "b4ba7a7a4adf3707eb18699578400738",
     "grade": true,
     "grade_id": "cell-6b8b93375f070186",
     "locked": true,
     "points": 5,
     "schema_version": 3,
     "solution": false,
     "task": false
    }
   },
   "outputs": [],
   "source": [
    "# TEST CASE for question 2\n",
    "dist1 = [np.random.laplace(loc=21989, scale=1.0) for _ in range(200)]\n",
    "dist2 = [people_over_30_dp() for _ in range(200)]\n",
    "\n",
    "assert stats.wasserstein_distance(dist1, dist2) < 1"
   ]
  },
  {
   "cell_type": "markdown",
   "metadata": {},
   "source": [
    "## Question 3\n",
    "\n",
    "Consider the following definition of a differencing attack (without differential privacy)."
   ]
  },
  {
   "cell_type": "code",
   "execution_count": 7,
   "metadata": {},
   "outputs": [
    {
     "name": "stdout",
     "output_type": "stream",
     "text": [
      "Differencing attack result: 39\n"
     ]
    }
   ],
   "source": [
    "def differencing_attack():\n",
    "    q1 = adult['Age'].sum()\n",
    "    q2 = adult[adult['Name'] != 'Karrie Trusslove']['Age'].sum()\n",
    "\n",
    "    return q1 - q2\n",
    "\n",
    "print('Differencing attack result:', differencing_attack())"
   ]
  },
  {
   "cell_type": "markdown",
   "metadata": {},
   "source": [
    "Implement a function `dp_differencing_attack` that performs the same attack, but attempts to satisfy differential privacy using the Laplace mechanism. Use the parameters `sensitivity=1` and `epsilon=1.0`."
   ]
  },
  {
   "cell_type": "code",
   "execution_count": 8,
   "metadata": {
    "deletable": false,
    "nbgrader": {
     "cell_type": "code",
     "checksum": "a32c97e9ccb37af10edb415284e026fc",
     "grade": false,
     "grade_id": "cell-df30d40b4e25882d",
     "locked": false,
     "schema_version": 3,
     "solution": true,
     "task": false
    }
   },
   "outputs": [
    {
     "name": "stdout",
     "output_type": "stream",
     "text": [
      "DP Differencing attack result: 37.333260944113135\n"
     ]
    }
   ],
   "source": [
    "def dp_differencing_attack():\n",
    "    q1 = adult['Age'].sum()\n",
    "    q2 = adult[adult['Name'] != 'Karrie Trusslove']['Age'].sum()\n",
    "    \n",
    "    # DP fails to protect against this attack because we go tthe sensitivity wrong.\n",
    "    # If we removed Karries data from the data then q1 changes by 39 and q2 won't change at all\n",
    "    # sensitivity of q1 should be at least 39, consider all the possible ranges of age... people don't usually live past 100\n",
    "    epsilon = 1\n",
    "    dp_q1 = laplace_mech(q1, 1, epsilon)\n",
    "    dp_q2 = laplace_mech(q2, 1, epsilon)\n",
    "    return dp_q1 - dp_q2\n",
    "\n",
    "print('DP Differencing attack result:', dp_differencing_attack())"
   ]
  },
  {
   "cell_type": "code",
   "execution_count": 9,
   "metadata": {
    "deletable": false,
    "editable": false,
    "nbgrader": {
     "cell_type": "code",
     "checksum": "4d362c300f180ce81877cc7af9d9da5f",
     "grade": true,
     "grade_id": "cell-cbc91dc6c256bc87",
     "locked": true,
     "points": 5,
     "schema_version": 3,
     "solution": false,
     "task": false
    }
   },
   "outputs": [],
   "source": [
    "# TEST CASE for question 1\n",
    "dp_results = [dp_differencing_attack() for _ in range(100)]\n",
    "spec = [np.random.laplace(loc=39, scale=1) for _ in range(100)]\n",
    "assert stats.wasserstein_distance(dp_results, spec) < 2"
   ]
  },
  {
   "cell_type": "markdown",
   "metadata": {},
   "source": [
    "## Question 4\n",
    "\n",
    "What is the *sensitivity* of the `differencing_attack` query defined above, and why?"
   ]
  },
  {
   "cell_type": "markdown",
   "metadata": {
    "deletable": false,
    "nbgrader": {
     "cell_type": "markdown",
     "checksum": "56a32b9c62e1af389bee97fae2aef1e7",
     "grade": true,
     "grade_id": "cell-f7a4f9087111dbfd",
     "locked": false,
     "points": 5,
     "schema_version": 3,
     "solution": true,
     "task": false
    }
   },
   "source": [
    "- The sensitivity of q1 and q2 is much greater than 1\n",
    "- The actual sensitivity is equal to the maximum age a person could be"
   ]
  },
  {
   "cell_type": "markdown",
   "metadata": {},
   "source": [
    "## Question 5\n",
    "\n",
    "Implement a corrected version of `dp_differencing_attack` that uses the correct sensitivity and thus correctly satisfies differential privacy."
   ]
  },
  {
   "cell_type": "code",
   "execution_count": 16,
   "metadata": {
    "deletable": false,
    "nbgrader": {
     "cell_type": "code",
     "checksum": "f268a4f2ec39377e41f8fa2e33e979af",
     "grade": false,
     "grade_id": "cell-ddf7057ec6927a23",
     "locked": false,
     "schema_version": 3,
     "solution": true,
     "task": false
    }
   },
   "outputs": [
    {
     "name": "stdout",
     "output_type": "stream",
     "text": [
      "DP Differencing attack result: -189.5111559627112\n"
     ]
    }
   ],
   "source": [
    "def dp_differencing_attack_corrected():\n",
    "    q1 = adult['Age'].sum()\n",
    "    q2 = adult[adult['Name'] != 'Karrie Trusslove']['Age'].sum()\n",
    "    \n",
    "    epsilon = 1\n",
    "    sensitivity = 125 # the max age a person could have\n",
    "    dp_q1 = laplace_mech(q1, sensitivity, epsilon)\n",
    "    dp_q2 = laplace_mech(q2, sensitivity, epsilon)\n",
    "    return dp_q1 - dp_q2\n",
    "\n",
    "print('DP Differencing attack result:', dp_differencing_attack_corrected())"
   ]
  },
  {
   "cell_type": "code",
   "execution_count": 11,
   "metadata": {
    "deletable": false,
    "editable": false,
    "nbgrader": {
     "cell_type": "code",
     "checksum": "0142c7f0a1795c312731286dc249b98e",
     "grade": true,
     "grade_id": "cell-626edd0f2a305401",
     "locked": true,
     "points": 5,
     "schema_version": 3,
     "solution": false,
     "task": false
    }
   },
   "outputs": [],
   "source": [
    "# TEST CASE for question 3\n",
    "dp_results = [dp_differencing_attack_corrected() for _ in range(100)]\n",
    "spec = [np.random.laplace(loc=39, scale=125/2.0) for _ in range(100)]\n",
    "assert stats.wasserstein_distance(dp_results, spec) < 200\n",
    "assert stats.wasserstein_distance(dp_results, spec) > 50"
   ]
  },
  {
   "cell_type": "markdown",
   "metadata": {},
   "source": [
    "## Question 6\n",
    "\n",
    "Write a function `dp_mean_age` that calculates the mean age of members of the dataset."
   ]
  },
  {
   "cell_type": "code",
   "execution_count": 12,
   "metadata": {},
   "outputs": [
    {
     "data": {
      "text/plain": [
       "38.58164675532078"
      ]
     },
     "execution_count": 12,
     "metadata": {},
     "output_type": "execute_result"
    }
   ],
   "source": [
    "def mean_age():\n",
    "    return adult['Age'].mean()\n",
    "\n",
    "mean_age()"
   ]
  },
  {
   "cell_type": "code",
   "execution_count": 17,
   "metadata": {
    "deletable": false,
    "nbgrader": {
     "cell_type": "code",
     "checksum": "575eedf7fa864fa41a51e32a4fd33332",
     "grade": false,
     "grade_id": "cell-8dd5afd2295449ac",
     "locked": false,
     "schema_version": 3,
     "solution": true,
     "task": false
    }
   },
   "outputs": [],
   "source": [
    "def dp_mean_age(epsilon):\n",
    "    # Calc dp private sum\n",
    "    real_sum = adult['Age'].sum()\n",
    "    noisy_sum = laplace_mech(real_sum, 125, epsilon / 2)\n",
    "    \n",
    "    # Calc a dp private count\n",
    "    real_count = len(adult)\n",
    "    noisy_count = laplace_mech(real_count, 1, epsilon / 2)\n",
    "    \n",
    "    #Return the quotient\n",
    "    return noisy_sum / noisy_count\n",
    "\n",
    "    # Satisfies (ep  / 2) + (ep / 2) dp = ep dp by sequential composition and post processing"
   ]
  },
  {
   "cell_type": "code",
   "execution_count": 18,
   "metadata": {
    "deletable": false,
    "editable": false,
    "nbgrader": {
     "cell_type": "code",
     "checksum": "291b3a7dc9f2bd8f9beda5c96a09ebe6",
     "grade": true,
     "grade_id": "cell-460c4e11928bdfa5",
     "locked": true,
     "points": 5,
     "schema_version": 3,
     "solution": false,
     "task": false
    }
   },
   "outputs": [],
   "source": [
    "# TEST CASE for question 1\n",
    "results = [dp_mean_age(1) for _ in range(100)]\n",
    "assert np.abs(np.mean(results) - mean_age()) < 0.1"
   ]
  },
  {
   "cell_type": "markdown",
   "metadata": {},
   "source": [
    "## Question 7\n",
    "\n",
    "Write a function `dp_age_sum_clipping` that uses clipping to bound the sensitivity of the sum of ages."
   ]
  },
  {
   "cell_type": "code",
   "execution_count": 22,
   "metadata": {
    "deletable": false,
    "nbgrader": {
     "cell_type": "code",
     "checksum": "ea20f33b139855087f751b97eff35bdf",
     "grade": false,
     "grade_id": "cell-0ad1c2c480c24c99",
     "locked": false,
     "schema_version": 3,
     "solution": true,
     "task": false
    }
   },
   "outputs": [
    {
     "data": {
      "text/plain": [
       "1256184.7816514275"
      ]
     },
     "execution_count": 22,
     "metadata": {},
     "output_type": "execute_result"
    }
   ],
   "source": [
    "def dp_age_sum_clipping(epsilon, b):\n",
    "    clipped_sum = adult['Age'].clip(lower=0, upper=b).sum()\n",
    "    noisy_sum = laplace_mech(clipped_sum, b, epsilon)\n",
    "    \n",
    "    return noisy_sum\n",
    "    \n",
    "# Satisfies ep dp because the sensitivity of the summation is b and the laplace mechanism satisfies ep dp\n",
    "    \n",
    "dp_age_sum_clipping(1.0, 100)"
   ]
  },
  {
   "cell_type": "code",
   "execution_count": 23,
   "metadata": {
    "deletable": false,
    "editable": false,
    "nbgrader": {
     "cell_type": "code",
     "checksum": "0f6079003b869ab8ba2a8516afed2465",
     "grade": true,
     "grade_id": "cell-6f0418293b0ed25c",
     "locked": true,
     "points": 5,
     "schema_version": 3,
     "solution": false,
     "task": false
    }
   },
   "outputs": [],
   "source": [
    "# TEST CASE for question 2\n",
    "results = [dp_age_sum_clipping(1.0, 100) for _ in range(10)]\n",
    "assert np.abs(np.mean(results) - adult['Age'].sum()) < 100"
   ]
  },
  {
   "cell_type": "code",
   "execution_count": 24,
   "metadata": {},
   "outputs": [
    {
     "data": {
      "image/png": "[encoded data removed]",
      "text/plain": [
       "<Figure size 432x288 with 1 Axes>"
      ]
     },
     "metadata": {},
     "output_type": "display_data"
    }
   ],
   "source": [
    "bs = np.linspace(1, 125, 100)\n",
    "results = [dp_age_sum_clipping(0.1, b) for b in bs]\n",
    "plt.plot(bs, results);\n",
    "\n",
    "#baseline = [adult['Age'].sum() for b in bs]\n",
    "#plt.plot(bs, baseline);"
   ]
  },
  {
   "cell_type": "code",
   "execution_count": null,
   "metadata": {},
   "outputs": [],
   "source": []
  }
 ],
 "metadata": {
  "kernelspec": {
   "display_name": "Python 3 (ipykernel)",
   "language": "python",
   "name": "python3"
  },
  "language_info": {
   "codemirror_mode": {
    "name": "ipython",
    "version": 3
   },
   "file_extension": ".py",
   "mimetype": "text/x-python",
   "name": "python",
   "nbconvert_exporter": "python",
   "pygments_lexer": "ipython3",
   "version": "3.9.12"
  }
 },
 "nbformat": 4,
 "nbformat_minor": 4
}
