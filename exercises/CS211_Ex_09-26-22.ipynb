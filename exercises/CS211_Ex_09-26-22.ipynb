{
 "cells": [
  {
   "cell_type": "markdown",
   "metadata": {},
   "source": [
    "# CS211: Data Privacy\n",
    "## In-Class Exercise, Week of 9/26/2022"
   ]
  },
  {
   "cell_type": "code",
   "execution_count": 2,
   "metadata": {},
   "outputs": [],
   "source": [
    "# Load the data and libraries\n",
    "import pandas as pd\n",
    "import numpy as np\n",
    "from scipy import stats\n",
    "import matplotlib.pyplot as plt\n",
    "plt.style.use('seaborn-whitegrid')\n",
    "\n",
    "def laplace_mech(v, sensitivity, epsilon):\n",
    "    return v + np.random.laplace(loc=0, scale=sensitivity / epsilon)\n",
    "\n",
    "def pct_error(orig, priv):\n",
    "    return np.abs(orig - priv)/orig * 100.0\n",
    "\n",
    "adult = pd.read_csv('https://github.com/jnear/cs211-data-privacy/raw/master/homework/adult_with_pii.csv')"
   ]
  },
  {
   "cell_type": "markdown",
   "metadata": {},
   "source": [
    "## Question 1\n",
    "\n",
    "For various values of $b$, write code to print out the percent error of summing the ages in the `adult` dataset, \n",
    "clipped to each value of $b$."
   ]
  },
  {
   "cell_type": "code",
   "execution_count": 3,
   "metadata": {
    "deletable": false,
    "nbgrader": {
     "cell_type": "code",
     "checksum": "5017dfb00b9fa0c28dc47d5e03672bcc",
     "grade": false,
     "grade_id": "cell-bb6f4fe4b3beb456",
     "locked": false,
     "schema_version": 3,
     "solution": true,
     "task": false
    }
   },
   "outputs": [
    {
     "name": "stdout",
     "output_type": "stream",
     "text": [
      "b: 10 sum: 74.07102609913392\n",
      "b: 20 sum: 48.372657207949544\n",
      "b: 30 sum: 27.25225840835548\n",
      "b: 40 sum: 12.881834476057827\n",
      "b: 50 sum: 4.82831379193132\n",
      "b: 90 sum: 0.0358511629249352\n",
      "b: 100 sum: 0.04476250262934804\n",
      "b: 1000 sum: 0.3714307445413356\n",
      "b: 10000 sum: 1.767919921207894\n",
      "b: 500000 sum: 1845.6012578266889\n"
     ]
    }
   ],
   "source": [
    "bs = range(1, 100, 10)\n",
    "real_sum = adult['Age'].sum()\n",
    "\n",
    "for b in [10, 20, 30, 40, 50, 90, 100, 1000, 10000, 500000]:\n",
    "    clipped_sum = adult['Age'].clip(lower=0, upper=b).sum()\n",
    "    noisy_sum = laplace_mech(clipped_sum, b, 0.1)\n",
    "    print('b:', b, 'sum:', pct_error(real_sum, noisy_sum))"
   ]
  },
  {
   "cell_type": "markdown",
   "metadata": {
    "deletable": false,
    "nbgrader": {
     "cell_type": "markdown",
     "checksum": "b5ae2ac2b16c4f62b326bccf0184692b",
     "grade": true,
     "grade_id": "cell-250b062d06204617",
     "locked": false,
     "points": 5,
     "schema_version": 3,
     "solution": true,
     "task": false
    }
   },
   "source": [
    "if we want to minimize error, b should be 90. Too small and there is eror due to clipping, too big and there is error due to excessive noise."
   ]
  },
  {
   "cell_type": "markdown",
   "metadata": {},
   "source": [
    "## Question 2\n",
    "\n",
    "For various values of $b$, print the result of a *differentially private* sum of ages, clipped to each value of $b$. Use $\\epsilon = 0.1$."
   ]
  },
  {
   "cell_type": "code",
   "execution_count": 4,
   "metadata": {
    "deletable": false,
    "nbgrader": {
     "cell_type": "code",
     "checksum": "fce2c03e38136df9fa6c79119866a44c",
     "grade": false,
     "grade_id": "cell-dca4f1bfa29d353d",
     "locked": false,
     "schema_version": 3,
     "solution": true,
     "task": false
    }
   },
   "outputs": [
    {
     "name": "stdout",
     "output_type": "stream",
     "text": [
      "b: 10 sum: 74.09389970140823\n",
      "b: 20 sum: 48.394308890527235\n",
      "b: 30 sum: 27.229477025282673\n",
      "b: 40 sum: 12.810044629457797\n",
      "b: 50 sum: 4.851046913307937\n",
      "b: 80 sum: 0.08861137386697411\n",
      "b: 90 sum: 0.06404354284294983\n",
      "b: 100 sum: 0.022726587006157685\n",
      "b: 1000 sum: 0.6595600890696853\n",
      "b: 10000 sum: 2.2134859422051596\n",
      "b: 50000 sum: 34.105181172654326\n",
      "b: 100000 sum: 60.78398447590274\n"
     ]
    }
   ],
   "source": [
    "bs = range(1, 100, 10)\n",
    "real_sum = adult['Age'].sum()\n",
    "\n",
    "for b in [10,20, 30, 40, 50, 80, 90, 100, 1000, 10000, 50000, 100000]:\n",
    "    clipped_sum = adult['Age'].clip(lower=0, upper=b).sum()\n",
    "    noisy_sum = laplace_mech(clipped_sum, b, 0.1)\n",
    "    print('b:', b, 'sum:', pct_error(real_sum, noisy_sum))"
   ]
  },
  {
   "cell_type": "markdown",
   "metadata": {},
   "source": [
    "Which value of $b$ is the best now? Does it differ?"
   ]
  },
  {
   "cell_type": "markdown",
   "metadata": {
    "deletable": false,
    "nbgrader": {
     "cell_type": "markdown",
     "checksum": "a6614c5f0fba0ddceddde10ee8626362",
     "grade": true,
     "grade_id": "cell-fee4808b879b0a04",
     "locked": false,
     "points": 5,
     "schema_version": 3,
     "solution": true,
     "task": false
    }
   },
   "source": [
    "The best value for b is 70 <= b <= 100. If b is smaller, there are clipping errors. If b is much larger, we introduce error due to excessive noises."
   ]
  },
  {
   "cell_type": "markdown",
   "metadata": {},
   "source": [
    "## Question 3\n",
    "\n",
    "Write an algorithm to *automatically pick the clipping parameter* for the age column. Your algorithm should satisfy differential privacy."
   ]
  },
  {
   "cell_type": "code",
   "execution_count": 14,
   "metadata": {
    "deletable": false,
    "nbgrader": {
     "cell_type": "code",
     "checksum": "0da086ab81420b019466185a8bbaf8c1",
     "grade": false,
     "grade_id": "cell-9a41939138d41f6f",
     "locked": false,
     "schema_version": 3,
     "solution": true,
     "task": false
    }
   },
   "outputs": [
    {
     "data": {
      "text/plain": [
       "[<matplotlib.lines.Line2D at 0x20f45115d30>]"
      ]
     },
     "execution_count": 14,
     "metadata": {},
     "output_type": "execute_result"
    },
    {
     "data": {
      "image/png": "[encoded data removed]",
      "text/plain": [
       "<Figure size 432x288 with 1 Axes>"
      ]
     },
     "metadata": {},
     "output_type": "display_data"
    }
   ],
   "source": [
    "def pick_b(epsilon):\n",
    "    # Approach: Try b values and see what works best\n",
    "    bs = list(range(1, 1000, 50))\n",
    "    noisy_results = {}\n",
    "    for b in bs:\n",
    "        clipped_sum = adult['Age'].clip(lower=0, upper=b).sum()\n",
    "        # consume privacy budget every time we run laplace_mech\n",
    "        noisy_sum = laplace_mech(clipped_sum, b, epsilon)\n",
    "        noisy_results[b] = noisy_sum\n",
    "\n",
    "    # goal: find the flat part of the graph\n",
    "    # approach: comapre neighbor and noisy sums\n",
    "    # find a pair othat are close together (noisy is no longer increasing) \n",
    "    # return the associated b value\n",
    "\n",
    "    last_sum = -10000\n",
    "    for b, noisy_sum in noisy_results.items():\n",
    "        if abs(noisy_sum - last_sum) < 500:\n",
    "            return b\n",
    "        last_sum = noisy_sum\n",
    "    return -1\n",
    "\n",
    "[pick_b(1.0) for _ in range(5)]\n",
    "\n",
    "epsilon = 1\n",
    "plt.plot([laplace_mech(adult['Capital Gain'].clip(lower = 0, upper = b).sum(), b, epsilon) for b in [10**i for i in range(40)]])"
   ]
  },
  {
   "cell_type": "code",
   "execution_count": 9,
   "metadata": {
    "deletable": false,
    "editable": false,
    "nbgrader": {
     "cell_type": "code",
     "checksum": "692492fba66dc0685be8dee946edbed7",
     "grade": true,
     "grade_id": "cell-136e29134703a26b",
     "locked": true,
     "points": 5,
     "schema_version": 3,
     "solution": false,
     "task": false
    }
   },
   "outputs": [],
   "source": [
    "# TEST CASE for question 3\n",
    "\n",
    "many_trials = np.mean([pick_b(1.0) for _ in range(100)])\n",
    "assert many_trials > 70\n",
    "assert many_trials < 500"
   ]
  },
  {
   "cell_type": "markdown",
   "metadata": {},
   "source": [
    "## Question 4\n",
    "\n",
    "What is the privacy cost of your algorithm, and why?"
   ]
  },
  {
   "cell_type": "markdown",
   "metadata": {
    "deletable": false,
    "nbgrader": {
     "cell_type": "markdown",
     "checksum": "e3b3bf3b0934d4a2d9429867fd118ab4",
     "grade": true,
     "grade_id": "cell-5e3ac9bbd3f179e9",
     "locked": false,
     "points": 5,
     "schema_version": 3,
     "solution": true,
     "task": false
    }
   },
   "source": [
    "Total privacy cost is 20 * epsilon.\n",
    "- we run laplace mechanism once per value in bs\n",
    "- there are 20 values in bs\n",
    "- by sequential composition, the total privacy cost 20 * epsilon\n",
    "- we can pick from the noisy sums without additional privacy by the post processing property"
   ]
  },
  {
   "cell_type": "markdown",
   "metadata": {},
   "source": [
    "## Question 5\n",
    "\n",
    "Write code to generate a *histogram* of education numbers in the `adult` dataset."
   ]
  },
  {
   "cell_type": "code",
   "execution_count": 15,
   "metadata": {
    "deletable": false,
    "nbgrader": {
     "cell_type": "code",
     "checksum": "a4c084311f288978d7388707ed803dc4",
     "grade": false,
     "grade_id": "cell-ee86a67be2f997fb",
     "locked": false,
     "schema_version": 3,
     "solution": true,
     "task": false
    }
   },
   "outputs": [
    {
     "data": {
      "text/plain": [
       "HS-grad         10501\n",
       "Some-college     7291\n",
       "Bachelors        5355\n",
       "Masters          1723\n",
       "Assoc-voc        1382\n",
       "11th             1175\n",
       "Assoc-acdm       1067\n",
       "10th              933\n",
       "7th-8th           646\n",
       "Prof-school       576\n",
       "9th               514\n",
       "12th              433\n",
       "Doctorate         413\n",
       "5th-6th           333\n",
       "1st-4th           168\n",
       "Preschool          51\n",
       "Name: Education, dtype: int64"
      ]
     },
     "execution_count": 15,
     "metadata": {},
     "output_type": "execute_result"
    }
   ],
   "source": [
    "def education_hist():\n",
    "    return adult['Education'].value_counts()\n",
    "\n",
    "education_hist()"
   ]
  },
  {
   "cell_type": "code",
   "execution_count": 16,
   "metadata": {
    "deletable": false,
    "editable": false,
    "nbgrader": {
     "cell_type": "code",
     "checksum": "9ca7a5909d65acf22b40eef95b77ef24",
     "grade": true,
     "grade_id": "cell-7e1309ee016dc1b0",
     "locked": true,
     "points": 5,
     "schema_version": 3,
     "solution": false,
     "task": false
    }
   },
   "outputs": [],
   "source": [
    "# TEST CASE for question 5\n",
    "h = education_hist()\n",
    "assert h['HS-grad'] == 10501\n",
    "assert h['12th'] == 433\n",
    "assert h['Doctorate'] == 413"
   ]
  },
  {
   "cell_type": "markdown",
   "metadata": {},
   "source": [
    "## Question 6\n",
    "\n",
    "Write code to release a *differentially private histogram* of education numbers."
   ]
  },
  {
   "cell_type": "code",
   "execution_count": 17,
   "metadata": {
    "deletable": false,
    "nbgrader": {
     "cell_type": "code",
     "checksum": "78135ffc0ddb6f5f824c4380c31fa067",
     "grade": false,
     "grade_id": "cell-e5d6ede7edcdc46e",
     "locked": false,
     "schema_version": 3,
     "solution": true,
     "task": false
    }
   },
   "outputs": [
    {
     "data": {
      "text/plain": [
       "HS-grad         10500.639118\n",
       "Some-college     7290.940596\n",
       "Bachelors        5353.811859\n",
       "Masters          1724.279213\n",
       "Assoc-voc        1380.425958\n",
       "11th             1174.010021\n",
       "Assoc-acdm       1064.625545\n",
       "10th              930.350988\n",
       "7th-8th           646.057786\n",
       "Prof-school       574.952549\n",
       "9th               513.823961\n",
       "12th              432.520333\n",
       "Doctorate         414.224223\n",
       "5th-6th           333.973186\n",
       "1st-4th           171.656189\n",
       "Preschool          52.925941\n",
       "Name: Education, dtype: float64"
      ]
     },
     "execution_count": 17,
     "metadata": {},
     "output_type": "execute_result"
    }
   ],
   "source": [
    "def dp_education_hist(epsilon):\n",
    "    h = education_hist()\n",
    "    dp_result = h.apply(lambda x : laplace_mech(x , 1, epsilon ))\n",
    "    return dp_result\n",
    "\n",
    "dp_education_hist(1.0)"
   ]
  },
  {
   "cell_type": "code",
   "execution_count": 18,
   "metadata": {
    "deletable": false,
    "editable": false,
    "nbgrader": {
     "cell_type": "code",
     "checksum": "b6d8b325844651b39c4e402d3bfac373",
     "grade": true,
     "grade_id": "cell-3d994871e2ce6873",
     "locked": true,
     "points": 5,
     "schema_version": 3,
     "solution": false,
     "task": false
    }
   },
   "outputs": [],
   "source": [
    "# TEST CASE for question 6\n",
    "h = dp_education_hist(1.0)\n",
    "assert abs(h['HS-grad'] - 10501) < 100\n",
    "assert abs(h['Doctorate'] - 413) < 100"
   ]
  },
  {
   "cell_type": "markdown",
   "metadata": {},
   "source": [
    "## Question 7\n",
    "\n",
    "What is the total privacy cost of `dp_education_hist`, and why?"
   ]
  },
  {
   "cell_type": "markdown",
   "metadata": {
    "deletable": false,
    "nbgrader": {
     "cell_type": "markdown",
     "checksum": "b260643b7d27a6d1ba3d243471dd2758",
     "grade": true,
     "grade_id": "cell-892ecfb572a7e900",
     "locked": false,
     "points": 5,
     "schema_version": 3,
     "solution": true,
     "task": false
    }
   },
   "source": [
    "naive solution\n",
    "- I run the laplace mechanism len(h) times, and use a privacy parameter of epsion each time \n",
    "- by sequential composition the total cost is len(h) * epsilon.\n",
    "- I split the data set into chunks based on the 'education' column, and use the laplace mechanism once on each chunk\n",
    "\n",
    "Better Solution\n",
    "- the chunks are disjoint because each person  has exactly one value for the 'education' column.\n",
    "- by parallel composition the total privacy cost is epsilon."
   ]
  },
  {
   "cell_type": "markdown",
   "metadata": {},
   "source": [
    "## Question 8\n",
    "\n",
    "Write code to generate a differentially private *contingency table* for the Education and Sex columns of the `adult` dataset."
   ]
  },
  {
   "cell_type": "code",
   "execution_count": 19,
   "metadata": {
    "deletable": false,
    "nbgrader": {
     "cell_type": "code",
     "checksum": "f1d36e02ba769a0419701627a6a54a5c",
     "grade": false,
     "grade_id": "cell-8ee68bcf1e36b660",
     "locked": false,
     "schema_version": 3,
     "solution": true,
     "task": false
    }
   },
   "outputs": [
    {
     "data": {
      "text/html": [
       "<div>\n",
       "<style scoped>\n",
       "    .dataframe tbody tr th:only-of-type {\n",
       "        vertical-align: middle;\n",
       "    }\n",
       "\n",
       "    .dataframe tbody tr th {\n",
       "        vertical-align: top;\n",
       "    }\n",
       "\n",
       "    .dataframe thead th {\n",
       "        text-align: right;\n",
       "    }\n",
       "</style>\n",
       "<table border=\"1\" class=\"dataframe\">\n",
       "  <thead>\n",
       "    <tr style=\"text-align: right;\">\n",
       "      <th>Sex</th>\n",
       "      <th>Female</th>\n",
       "      <th>Male</th>\n",
       "    </tr>\n",
       "    <tr>\n",
       "      <th>Education</th>\n",
       "      <th></th>\n",
       "      <th></th>\n",
       "    </tr>\n",
       "  </thead>\n",
       "  <tbody>\n",
       "    <tr>\n",
       "      <th>10th</th>\n",
       "      <td>296.482294</td>\n",
       "      <td>637.069209</td>\n",
       "    </tr>\n",
       "    <tr>\n",
       "      <th>11th</th>\n",
       "      <td>432.449596</td>\n",
       "      <td>746.293217</td>\n",
       "    </tr>\n",
       "    <tr>\n",
       "      <th>12th</th>\n",
       "      <td>144.043608</td>\n",
       "      <td>287.356217</td>\n",
       "    </tr>\n",
       "    <tr>\n",
       "      <th>1st-4th</th>\n",
       "      <td>45.757227</td>\n",
       "      <td>122.781299</td>\n",
       "    </tr>\n",
       "    <tr>\n",
       "      <th>5th-6th</th>\n",
       "      <td>83.527478</td>\n",
       "      <td>248.004555</td>\n",
       "    </tr>\n",
       "    <tr>\n",
       "      <th>7th-8th</th>\n",
       "      <td>158.715913</td>\n",
       "      <td>486.077081</td>\n",
       "    </tr>\n",
       "    <tr>\n",
       "      <th>9th</th>\n",
       "      <td>146.780805</td>\n",
       "      <td>370.132696</td>\n",
       "    </tr>\n",
       "    <tr>\n",
       "      <th>Assoc-acdm</th>\n",
       "      <td>419.429187</td>\n",
       "      <td>645.086113</td>\n",
       "    </tr>\n",
       "    <tr>\n",
       "      <th>Assoc-voc</th>\n",
       "      <td>500.628115</td>\n",
       "      <td>881.261332</td>\n",
       "    </tr>\n",
       "    <tr>\n",
       "      <th>Bachelors</th>\n",
       "      <td>1620.321731</td>\n",
       "      <td>3733.086132</td>\n",
       "    </tr>\n",
       "    <tr>\n",
       "      <th>Doctorate</th>\n",
       "      <td>86.081953</td>\n",
       "      <td>327.303715</td>\n",
       "    </tr>\n",
       "    <tr>\n",
       "      <th>HS-grad</th>\n",
       "      <td>3389.332680</td>\n",
       "      <td>7108.372757</td>\n",
       "    </tr>\n",
       "    <tr>\n",
       "      <th>Masters</th>\n",
       "      <td>536.357879</td>\n",
       "      <td>1186.009182</td>\n",
       "    </tr>\n",
       "    <tr>\n",
       "      <th>Preschool</th>\n",
       "      <td>15.797375</td>\n",
       "      <td>35.094295</td>\n",
       "    </tr>\n",
       "    <tr>\n",
       "      <th>Prof-school</th>\n",
       "      <td>90.720946</td>\n",
       "      <td>483.385368</td>\n",
       "    </tr>\n",
       "    <tr>\n",
       "      <th>Some-college</th>\n",
       "      <td>2806.335618</td>\n",
       "      <td>4484.802125</td>\n",
       "    </tr>\n",
       "  </tbody>\n",
       "</table>\n",
       "</div>"
      ],
      "text/plain": [
       "Sex                Female         Male\n",
       "Education                             \n",
       "10th           296.482294   637.069209\n",
       "11th           432.449596   746.293217\n",
       "12th           144.043608   287.356217\n",
       "1st-4th         45.757227   122.781299\n",
       "5th-6th         83.527478   248.004555\n",
       "7th-8th        158.715913   486.077081\n",
       "9th            146.780805   370.132696\n",
       "Assoc-acdm     419.429187   645.086113\n",
       "Assoc-voc      500.628115   881.261332\n",
       "Bachelors     1620.321731  3733.086132\n",
       "Doctorate       86.081953   327.303715\n",
       "HS-grad       3389.332680  7108.372757\n",
       "Masters        536.357879  1186.009182\n",
       "Preschool       15.797375    35.094295\n",
       "Prof-school     90.720946   483.385368\n",
       "Some-college  2806.335618  4484.802125"
      ]
     },
     "execution_count": 19,
     "metadata": {},
     "output_type": "execute_result"
    }
   ],
   "source": [
    "def dp_crosstab_education_sex(epsilon):\n",
    "    # it would be nice if the total privacy cost is epsilon\n",
    "    ct  = pd.crosstab(adult['Education'], \n",
    "                      adult['Sex'])\n",
    "    noisy_ct = ct.applymap(lambda x : laplace_mech(x , 1, epsilon ))\n",
    "    return noisy_ct\n",
    "\n",
    "dp_crosstab_education_sex(1.0)"
   ]
  },
  {
   "cell_type": "code",
   "execution_count": 20,
   "metadata": {
    "deletable": false,
    "editable": false,
    "nbgrader": {
     "cell_type": "code",
     "checksum": "c75206f511320740052bb35011d31e14",
     "grade": true,
     "grade_id": "cell-8793de8189968533",
     "locked": true,
     "points": 5,
     "schema_version": 3,
     "solution": false,
     "task": false
    }
   },
   "outputs": [],
   "source": [
    "# TEST CASE for question 8\n",
    "ct = dp_crosstab_education_sex(1.0)\n",
    "assert abs(ct['Female']['10th'] - 295) < 100\n",
    "assert abs(ct['Male']['10th'] - 638) < 100\n",
    "assert abs(ct['Female']['Bachelors'] - 1619) < 100\n",
    "\n",
    "assert abs(ct['Female']['10th'] - 295) > 0\n",
    "assert abs(ct['Male']['10th'] - 638) > 0\n",
    "assert abs(ct['Female']['Bachelors'] - 1619) > 0"
   ]
  },
  {
   "cell_type": "markdown",
   "metadata": {},
   "source": [
    "## Question 9\n",
    "\n",
    "Does parallel composition apply for the contingency table in question 1? Why or why not?"
   ]
  },
  {
   "cell_type": "markdown",
   "metadata": {
    "deletable": false,
    "nbgrader": {
     "cell_type": "markdown",
     "checksum": "9d45318df4e423bfde4cf13a8527fc60",
     "grade": true,
     "grade_id": "cell-ad80affc47428f91",
     "locked": false,
     "points": 5,
     "schema_version": 3,
     "solution": true,
     "task": false
    }
   },
   "source": [
    "yes it does, parrallel composition holds for an n-dimensional histogram (including n= 2), because adding or removing an indiciviual in the data changes exactly one count in the histogram"
   ]
  },
  {
   "cell_type": "markdown",
   "metadata": {},
   "source": [
    "## Question 10\n",
    "\n",
    "Does the number of columns used in constructing the contingency table matter for privacy cost? Does it matter for accuracy?"
   ]
  },
  {
   "cell_type": "markdown",
   "metadata": {
    "deletable": false,
    "nbgrader": {
     "cell_type": "markdown",
     "checksum": "851d5bf06ada00ac761cf695bf3bb8ab",
     "grade": true,
     "grade_id": "cell-5dead8598d0dbda8",
     "locked": false,
     "points": 5,
     "schema_version": 3,
     "solution": true,
     "task": false
    }
   },
   "source": [
    "- Privacy cost: no the number of columns does not  matter\n",
    "- Accuracy: yes, it mattrs a lot. The more columns you group bu, the smaller the count will be in each of the reslt. The noise level will start the same, but the signal-to-noise ratio will go down."
   ]
  },
  {
   "cell_type": "markdown",
   "metadata": {},
   "source": [
    "## Question 11\n",
    "\n",
    "Implement the Gaussian mechanism for $(\\epsilon, \\delta)$-differential privacy."
   ]
  },
  {
   "cell_type": "code",
   "execution_count": 26,
   "metadata": {
    "deletable": false,
    "nbgrader": {
     "cell_type": "code",
     "checksum": "31d4967e3d4bf6c87e8f17c5a8869a92",
     "grade": false,
     "grade_id": "cell-8a747c92ab199a91",
     "locked": false,
     "schema_version": 3,
     "solution": true,
     "task": false
    }
   },
   "outputs": [],
   "source": [
    "# Using Gauss instead of laplace to generate noise, involves a different notion of sensitivity... More sensitivity = less noise?\n",
    "# Differential privacy using Gaussian noise = approximate differential privacy\n",
    "#     -  Better sensitivity, doesn't satisfy epsilon DP (epsilon, delta)\n",
    "\n",
    "def gaussian_mech(val, sensitivity, epsilon, delta):\n",
    "    # Scale of the noise = 2s2log(1.25/delta)/epsilon^2\n",
    "    sigma_sqt = (2*(sensitivity**2)*np.log(1.25/delta)) / (epsilon**2)\n",
    "    sigma = np.sqrt(sigma_sqt)\n",
    "    noise = np.random.normal(loc=0, scale = sigma)\n",
    "    return val + noise"
   ]
  },
  {
   "cell_type": "code",
   "execution_count": 30,
   "metadata": {},
   "outputs": [
    {
     "data": {
      "text/plain": [
       "(array([2.0000e+00, 1.0000e+00, 0.0000e+00, 0.0000e+00, 0.0000e+00,\n",
       "        0.0000e+00, 0.0000e+00, 1.0000e+00, 0.0000e+00, 1.0000e+00,\n",
       "        0.0000e+00, 2.0000e+00, 1.0000e+00, 1.0000e+00, 4.0000e+00,\n",
       "        4.0000e+00, 6.0000e+00, 1.1000e+01, 6.0000e+00, 8.0000e+00,\n",
       "        1.0000e+01, 1.3000e+01, 2.2000e+01, 3.1000e+01, 3.2000e+01,\n",
       "        4.3000e+01, 4.8000e+01, 6.7000e+01, 9.7000e+01, 1.2200e+02,\n",
       "        1.5400e+02, 1.6100e+02, 2.2300e+02, 2.9000e+02, 3.5500e+02,\n",
       "        3.8500e+02, 5.6400e+02, 6.8800e+02, 8.9000e+02, 1.0510e+03,\n",
       "        1.2750e+03, 1.6550e+03, 2.2400e+03, 2.6570e+03, 3.2310e+03,\n",
       "        4.0940e+03, 5.2240e+03, 6.6420e+03, 8.1520e+03, 1.0232e+04,\n",
       "        9.8130e+03, 7.8620e+03, 6.3390e+03, 5.0660e+03, 4.0540e+03,\n",
       "        3.2700e+03, 2.6250e+03, 2.0370e+03, 1.6670e+03, 1.3380e+03,\n",
       "        1.0640e+03, 8.3400e+02, 6.8100e+02, 5.4200e+02, 4.2900e+02,\n",
       "        3.4900e+02, 2.5500e+02, 2.2500e+02, 1.7300e+02, 1.4300e+02,\n",
       "        8.9000e+01, 8.3000e+01, 6.8000e+01, 5.2000e+01, 5.2000e+01,\n",
       "        4.5000e+01, 3.4000e+01, 2.0000e+01, 2.3000e+01, 1.8000e+01,\n",
       "        6.0000e+00, 8.0000e+00, 7.0000e+00, 3.0000e+00, 7.0000e+00,\n",
       "        1.0000e+00, 2.0000e+00, 5.0000e+00, 1.0000e+00, 4.0000e+00,\n",
       "        3.0000e+00, 3.0000e+00, 0.0000e+00, 1.0000e+00, 0.0000e+00,\n",
       "        1.0000e+00, 1.0000e+00, 0.0000e+00, 0.0000e+00, 1.0000e+00]),\n",
       " array([-10.23280591, -10.00795699,  -9.78310808,  -9.55825916,\n",
       "         -9.33341024,  -9.10856133,  -8.88371241,  -8.65886349,\n",
       "         -8.43401458,  -8.20916566,  -7.98431674,  -7.75946783,\n",
       "         -7.53461891,  -7.30976999,  -7.08492108,  -6.86007216,\n",
       "         -6.63522324,  -6.41037433,  -6.18552541,  -5.96067649,\n",
       "         -5.73582758,  -5.51097866,  -5.28612974,  -5.06128082,\n",
       "         -4.83643191,  -4.61158299,  -4.38673407,  -4.16188516,\n",
       "         -3.93703624,  -3.71218732,  -3.48733841,  -3.26248949,\n",
       "         -3.03764057,  -2.81279166,  -2.58794274,  -2.36309382,\n",
       "         -2.13824491,  -1.91339599,  -1.68854707,  -1.46369816,\n",
       "         -1.23884924,  -1.01400032,  -0.78915141,  -0.56430249,\n",
       "         -0.33945357,  -0.11460466,   0.11024426,   0.33509318,\n",
       "          0.55994209,   0.78479101,   1.00963993,   1.23448884,\n",
       "          1.45933776,   1.68418668,   1.90903559,   2.13388451,\n",
       "          2.35873343,   2.58358234,   2.80843126,   3.03328018,\n",
       "          3.25812909,   3.48297801,   3.70782693,   3.93267584,\n",
       "          4.15752476,   4.38237368,   4.60722259,   4.83207151,\n",
       "          5.05692043,   5.28176935,   5.50661826,   5.73146718,\n",
       "          5.9563161 ,   6.18116501,   6.40601393,   6.63086285,\n",
       "          6.85571176,   7.08056068,   7.3054096 ,   7.53025851,\n",
       "          7.75510743,   7.97995635,   8.20480526,   8.42965418,\n",
       "          8.6545031 ,   8.87935201,   9.10420093,   9.32904985,\n",
       "          9.55389876,   9.77874768,  10.0035966 ,  10.22844551,\n",
       "         10.45329443,  10.67814335,  10.90299226,  11.12784118,\n",
       "         11.3526901 ,  11.57753901,  11.80238793,  12.02723685,\n",
       "         12.25208576]),\n",
       " <BarContainer object of 100 artists>)"
      ]
     },
     "execution_count": 30,
     "metadata": {},
     "output_type": "execute_result"
    },
    {
     "data": {
      "image/png": "[encoded data removed]",
      "text/plain": [
       "<Figure size 432x288 with 1 Axes>"
      ]
     },
     "metadata": {},
     "output_type": "display_data"
    }
   ],
   "source": [
    "# Comparison of the two distributions\n",
    "plt.hist([gaussian_mech(1, 1, 1, 1e-5) for _ in range(100000)], bins=100)\n",
    "plt.hist([laplace_mech(1, 1, 1) for _ in range(100000)], bins=100)"
   ]
  },
  {
   "cell_type": "code",
   "execution_count": 28,
   "metadata": {
    "deletable": false,
    "editable": false,
    "nbgrader": {
     "cell_type": "code",
     "checksum": "1adc60d692e5bf0e529ed61ad082a8ac",
     "grade": true,
     "grade_id": "cell-f991d474ed13d0ed",
     "locked": true,
     "points": 5,
     "schema_version": 3,
     "solution": false,
     "task": false
    }
   },
   "outputs": [
    {
     "name": "stdout",
     "output_type": "stream",
     "text": [
      "mean error: 0.05624010785361258\n"
     ]
    }
   ],
   "source": [
    "# TEST CASE\n",
    "\n",
    "results = [gaussian_mech(len(adult[adult['Age'] > 50]), 1, 1.0, 10e-5) for _ in range(100)]\n",
    "errors = [pct_error(len(adult[adult['Age'] > 50]), r) for r in results]\n",
    "print('mean error:', np.mean(errors))\n",
    "\n",
    "assert np.mean(errors) > 0\n",
    "assert np.mean(errors) < 2"
   ]
  },
  {
   "cell_type": "markdown",
   "metadata": {},
   "source": [
    "## Question 12\n",
    "\n",
    "How do the Laplace and Gaussian mechanisms compare in terms of relative error on the query \"how many individuals are over 50 years old\" with $\\epsilon = 1$ and $\\delta = 10^{-5}$?"
   ]
  },
  {
   "cell_type": "code",
   "execution_count": null,
   "metadata": {},
   "outputs": [],
   "source": [
    "true_answer = len(adult[adult['Age'] > 50])\n",
    "\n",
    "laplace_answers = [laplace_mech(true_answer, 1, 1) for _ in range(200)]\n",
    "gaussian_answers = [gaussian_mech(true_answer, 1, 1, 10e-5) for _ in range(200)]\n",
    "\n",
    "laplace_error = [pct_error(true_answer, a) for a in laplace_answers]\n",
    "gaussian_error = [pct_error(true_answer, a) for a in gaussian_answers]\n",
    "\n",
    "_, bins, _ = plt.hist(gaussian_error, bins=20, label='Gaussian')\n",
    "plt.hist(laplace_error, bins=bins, label='Laplace', alpha=0.5)\n",
    "plt.legend();"
   ]
  },
  {
   "cell_type": "markdown",
   "metadata": {
    "deletable": false,
    "nbgrader": {
     "cell_type": "markdown",
     "checksum": "1153ff5988a844b33435df5d8de63f06",
     "grade": true,
     "grade_id": "cell-aa96c49ecf1a6d2c",
     "locked": false,
     "points": 5,
     "schema_version": 3,
     "solution": true,
     "task": false
    }
   },
   "source": [
    "YOUR ANSWER HERE"
   ]
  },
  {
   "cell_type": "markdown",
   "metadata": {},
   "source": [
    "## Not a Question - Just for reference\n",
    "\n",
    "[Reference](https://uvm-plaid.github.io/programming-dp/notebooks/ch6.html#the-gaussian-mechanism)"
   ]
  },
  {
   "cell_type": "code",
   "execution_count": 31,
   "metadata": {},
   "outputs": [
    {
     "name": "stdout",
     "output_type": "stream",
     "text": [
      "e^epsilon = 2.718281828459045\n"
     ]
    },
    {
     "data": {
      "image/png": "[encoded data removed]",
      "text/plain": [
       "<Figure size 432x288 with 1 Axes>"
      ]
     },
     "metadata": {},
     "output_type": "display_data"
    }
   ],
   "source": [
    "epsilon = 1\n",
    "sensitivity = 1\n",
    "delta = 1e-5\n",
    "sigma_squared = 2 * sensitivity**2 * np.log(1.25 / delta) / (epsilon**2)\n",
    "sigma = np.sqrt(sigma_squared)\n",
    "\n",
    "def gauss_pdf(x):\n",
    "    return 1/(sigma*np.sqrt(2*np.pi)) * np.exp(-(1/2)*(x/sigma)**2)\n",
    "\n",
    "xs = np.linspace(-50, 50, 200)\n",
    "ys1 = [gauss_pdf(x) for x in xs]\n",
    "ys2 = [gauss_pdf(x+1) for x in xs]\n",
    "\n",
    "plt.plot(xs,ys1)\n",
    "plt.plot(xs,ys2)\n",
    "\n",
    "# ratio < e^epsilon should hold\n",
    "print('e^epsilon =', np.exp(epsilon))\n",
    "ratios = [(x, y1 / y2) for x, y1, y2 in zip(xs, ys1, ys2)]\n",
    "#ratios"
   ]
  },
  {
   "cell_type": "code",
   "execution_count": 37,
   "metadata": {},
   "outputs": [
    {
     "name": "stdout",
     "output_type": "stream",
     "text": [
      "e^epsilon = 2.718281828459045\n"
     ]
    },
    {
     "data": {
      "image/png": "[encoded data removed]",
      "text/plain": [
       "<Figure size 432x288 with 1 Axes>"
      ]
     },
     "metadata": {},
     "output_type": "display_data"
    }
   ],
   "source": [
    "def laplace_pdf(x):\n",
    "    return (1/2)*epsilon * np.exp(-np.abs(x)*epsilon)\n",
    "# Although very small, gap gets bigger which means you need a larger epsilon, \n",
    "# in fact there is no epsilon value in straight gaussian distr. because there will always be some sort of gap\n",
    "xs = np.linspace(-10, 50, 200)\n",
    "ys1 = [laplace_pdf(x) for x in xs]\n",
    "ys2 = [laplace_pdf(x+1) for x in xs]\n",
    "\n",
    "plt.plot(xs,ys1)\n",
    "plt.plot(xs,ys2)\n",
    "\n",
    "# ratio < e^epsilon should hold\n",
    "print('e^epsilon =', np.exp(epsilon))\n",
    "ratios = [(x, y1 / y2) for x, y1, y2 in zip(xs, ys1, ys2)]\n",
    "#ratios"
   ]
  },
  {
   "cell_type": "code",
   "execution_count": null,
   "metadata": {},
   "outputs": [],
   "source": []
  }
 ],
 "metadata": {
  "kernelspec": {
   "display_name": "Python 3 (ipykernel)",
   "language": "python",
   "name": "python3"
  },
  "language_info": {
   "codemirror_mode": {
    "name": "ipython",
    "version": 3
   },
   "file_extension": ".py",
   "mimetype": "text/x-python",
   "name": "python",
   "nbconvert_exporter": "python",
   "pygments_lexer": "ipython3",
   "version": "3.9.12"
  }
 },
 "nbformat": 4,
 "nbformat_minor": 4
}
