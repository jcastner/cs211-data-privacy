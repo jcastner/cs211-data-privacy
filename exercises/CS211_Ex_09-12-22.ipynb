{
 "cells": [
  {
   "cell_type": "markdown",
   "metadata": {},
   "source": [
    "# CS211: Data Privacy\n",
    "## In-Class Exercises, week of 9/12/2022"
   ]
  },
  {
   "cell_type": "code",
   "execution_count": 2,
   "metadata": {},
   "outputs": [],
   "source": [
    "# Load the data and libraries\n",
    "import pandas as pd\n",
    "import numpy as np\n",
    "from scipy import stats\n",
    "import matplotlib.pyplot as plt\n",
    "plt.style.use('seaborn-whitegrid')\n",
    "\n",
    "adult = pd.read_csv('https://github.com/jnear/cs211-data-privacy/raw/master/homework/adult_with_pii.csv')\n",
    "\n",
    "#Formual: Aggregate + noise"
   ]
  },
  {
   "cell_type": "markdown",
   "metadata": {},
   "source": [
    "## Question 1\n",
    "\n",
    "Write a *counting query* to determine whether or not Karrie Trusslove's age is 39."
   ]
  },
  {
   "cell_type": "code",
   "execution_count": 3,
   "metadata": {
    "deletable": false,
    "nbgrader": {
     "cell_type": "code",
     "checksum": "5868fbd8a4651094c7814b84b4015247",
     "grade": false,
     "grade_id": "cell-e9c0c06eb7735ea3",
     "locked": false,
     "schema_version": 3,
     "solution": true,
     "task": false
    }
   },
   "outputs": [],
   "source": [
    "def karrie_query():\n",
    "    return len(adult[(adult['Name'] == 'Karrie Trusslove') & (adult['Age'] == 39)]) "
   ]
  },
  {
   "cell_type": "code",
   "execution_count": 4,
   "metadata": {
    "deletable": false,
    "editable": false,
    "nbgrader": {
     "cell_type": "code",
     "checksum": "892dc90720e17d35952c0effcc37f458",
     "grade": true,
     "grade_id": "cell-f93cfd0eb59130ed",
     "locked": true,
     "points": 5,
     "schema_version": 3,
     "solution": false,
     "task": false
    }
   },
   "outputs": [],
   "source": [
    "# TEST CASE \n",
    "\n",
    "assert karrie_query() == 1"
   ]
  },
  {
   "cell_type": "markdown",
   "metadata": {},
   "source": [
    "## Question 2\n",
    "\n",
    "Add Laplace noise to the counting query you wrote in the last question to ensure differential privacy for $\\epsilon = 1.0$."
   ]
  },
  {
   "cell_type": "code",
   "execution_count": 31,
   "metadata": {
    "deletable": false,
    "nbgrader": {
     "cell_type": "code",
     "checksum": "69717756b100a54b71507c8fa2b9f55e",
     "grade": false,
     "grade_id": "cell-8ad72c55497bc534",
     "locked": false,
     "schema_version": 3,
     "solution": true,
     "task": false
    }
   },
   "outputs": [],
   "source": [
    "epsilon = 1 # Big epsilon gets closer to the right number because the noise samples are much smaller\n",
    "sensitivity = 1\n",
    "\n",
    "def dp_karrie_query():\n",
    "    true_answer = karrie_query()\n",
    "    noise = np.random.laplace(loc=0, scale=sensitivity/epsilon)# Noise from laplace distribution\n",
    "    return true_answer + noise\n",
    "\n"
   ]
  },
  {
   "cell_type": "code",
   "execution_count": 32,
   "metadata": {},
   "outputs": [
    {
     "data": {
      "text/plain": [
       "0.4246879809654428"
      ]
     },
     "execution_count": 32,
     "metadata": {},
     "output_type": "execute_result"
    }
   ],
   "source": [
    "dp_karrie_query()"
   ]
  },
  {
   "cell_type": "code",
   "execution_count": 33,
   "metadata": {
    "deletable": false,
    "editable": false,
    "nbgrader": {
     "cell_type": "code",
     "checksum": "baa91c2bfe1e6987c6f337732f61ac5f",
     "grade": true,
     "grade_id": "cell-a7c9bd084e5c5bdf",
     "locked": true,
     "points": 5,
     "schema_version": 3,
     "solution": false,
     "task": false
    }
   },
   "outputs": [],
   "source": [
    "# TEST CASE \n",
    "\n",
    "q2_runs = [dp_karrie_query() for _ in range(100)]\n",
    "noise_runs = [np.random.laplace(loc=1, scale=1/epsilon) for _ in range(100)]\n",
    "\n",
    "assert stats.wasserstein_distance(q2_runs, noise_runs) < 1"
   ]
  },
  {
   "cell_type": "markdown",
   "metadata": {},
   "source": [
    "## Question 3\n",
    "\n",
    "In 2-4 sentences, describe how `dp_karrie_query` protects Karrie's privacy."
   ]
  },
  {
   "cell_type": "markdown",
   "metadata": {
    "deletable": false,
    "nbgrader": {
     "cell_type": "markdown",
     "checksum": "b23a9213e39e3363e4d3e7cc629a15a4",
     "grade": true,
     "grade_id": "cell-07337a085c0ba0e1",
     "locked": false,
     "points": 5,
     "schema_version": 3,
     "solution": true,
     "task": false
    }
   },
   "source": [
    "Noise is added to introduce artifical uncertainty into the answer. The noise prevents us from making inferences about Karrie's age without 100% certainty. I am roughly equally likley to see a specific answer for the query, regardless of Karrie's age. "
   ]
  },
  {
   "cell_type": "markdown",
   "metadata": {},
   "source": [
    "## Question 4\n",
    "\n",
    "Implement a function to construct an *empirical distribution* over random samples from the Laplace distribution with location 0 and scale `scale`. Use 1000 samples."
   ]
  },
  {
   "cell_type": "code",
   "execution_count": 34,
   "metadata": {},
   "outputs": [
    {
     "data": {
      "text/plain": [
       "(array([  9.,  18.,  27., 121., 324., 336., 109.,  34.,  16.,   6.]),\n",
       " array([-5.74363791, -4.60034441, -3.45705091, -2.31375741, -1.1704639 ,\n",
       "        -0.0271704 ,  1.1161231 ,  2.2594166 ,  3.4027101 ,  4.54600361,\n",
       "         5.68929711]),\n",
       " <BarContainer object of 10 artists>)"
      ]
     },
     "execution_count": 34,
     "metadata": {},
     "output_type": "execute_result"
    },
    {
     "data": {
      "image/png": "[encoded data removed]",
      "text/plain": [
       "<Figure size 432x288 with 1 Axes>"
      ]
     },
     "metadata": {},
     "output_type": "display_data"
    }
   ],
   "source": [
    "scale = 1\n",
    "plt.hist([np.random.laplace(loc=0, scale=scale) for _ in range(1000)])"
   ]
  },
  {
   "cell_type": "code",
   "execution_count": 35,
   "metadata": {
    "deletable": false,
    "nbgrader": {
     "cell_type": "code",
     "checksum": "36e271e39d3b9efb374514de6b58c769",
     "grade": false,
     "grade_id": "cell-e7ddf0e4b195dfdc",
     "locked": false,
     "schema_version": 3,
     "solution": true,
     "task": false
    }
   },
   "outputs": [
    {
     "data": {
      "image/png": "[encoded data removed]",
      "text/plain": [
       "<Figure size 432x288 with 1 Axes>"
      ]
     },
     "metadata": {},
     "output_type": "display_data"
    }
   ],
   "source": [
    "def empirical_dist_lap(scale):\n",
    "    # Run laplace mechanism a bunch of times and graph results\n",
    "    return [np.random.laplace(loc=0, scale=scale) for _ in range(1000)]\n",
    "\n",
    "epsilon1 = 1.0\n",
    "epsilon2 = 2.0\n",
    "# if distribution is \"pointy\" = less uncertainty, an adversary can conclude more confidently \n",
    "# that the inferences they make about the data are correct... the noise samples are not very noisy, this means not much privacy\n",
    "\n",
    "\n",
    "plt.hist(empirical_dist_lap(1/epsilon1), bins=50);\n",
    "plt.hist(empirical_dist_lap(1/epsilon2), bins=50, alpha=.7);"
   ]
  },
  {
   "cell_type": "code",
   "execution_count": 36,
   "metadata": {
    "deletable": false,
    "editable": false,
    "nbgrader": {
     "cell_type": "code",
     "checksum": "4ae51dc3beb1b2d1b08e84aad405fa17",
     "grade": true,
     "grade_id": "cell-e68891bb70939fd0",
     "locked": true,
     "points": 5,
     "schema_version": 3,
     "solution": false,
     "task": false
    }
   },
   "outputs": [],
   "source": [
    "# PLACEHOLDER for test cases\n"
   ]
  },
  {
   "cell_type": "code",
   "execution_count": 37,
   "metadata": {},
   "outputs": [
    {
     "data": {
      "text/plain": [
       "2.718281828459045"
      ]
     },
     "execution_count": 37,
     "metadata": {},
     "output_type": "execute_result"
    }
   ],
   "source": [
    "np.exp(1)"
   ]
  },
  {
   "cell_type": "code",
   "execution_count": 46,
   "metadata": {},
   "outputs": [
    {
     "name": "stdout",
     "output_type": "stream",
     "text": [
      "-12.855273156617725 1.0 0.0 inf\n",
      "-12.625697288371308 1.0 0.0 inf\n",
      "-12.396121420124889 0.0 0.0 nan\n",
      "-12.166545551878471 0.0 0.0 nan\n",
      "-11.936969683632052 0.0 0.0 nan\n",
      "-11.707393815385634 0.0 0.0 nan\n",
      "-11.477817947139215 0.0 0.0 nan\n",
      "-11.248242078892797 0.0 0.0 nan\n",
      "-11.01866621064638 1.0 0.0 inf\n",
      "-10.78909034239996 1.0 0.0 inf\n",
      "-10.559514474153543 0.0 0.0 nan\n",
      "-10.329938605907124 0.0 0.0 nan\n",
      "-10.100362737660706 1.0 0.0 inf\n",
      "-9.870786869414289 0.0 0.0 nan\n",
      "-9.64121100116787 0.0 1.0 0.0\n",
      "-9.411635132921452 2.0 1.0 2.0\n",
      "-9.182059264675033 1.0 0.0 inf\n",
      "-8.952483396428615 1.0 1.0 1.0\n",
      "-8.722907528182198 0.0 3.0 0.0\n",
      "-8.493331659935778 3.0 1.0 3.0\n",
      "-8.26375579168936 3.0 1.0 3.0\n",
      "-8.034179923442942 5.0 2.0 2.5\n",
      "-7.804604055196523 5.0 3.0 1.6666666666666667\n",
      "-7.575028186950106 6.0 2.0 3.0\n",
      "-7.345452318703687 4.0 3.0 1.3333333333333333\n",
      "-7.115876450457269 5.0 3.0 1.6666666666666667\n",
      "-6.8863005822108505 13.0 4.0 3.25\n",
      "-6.656724713964432 18.0 12.0 1.5\n",
      "-6.427148845718014 20.0 6.0 3.3333333333333335\n",
      "-6.197572977471596 21.0 11.0 1.9090909090909092\n",
      "-5.967997109225178 27.0 14.0 1.9285714285714286\n",
      "-5.738421240978759 51.0 16.0 3.1875\n",
      "-5.508845372732341 56.0 14.0 4.0\n",
      "-5.279269504485923 64.0 20.0 3.2\n",
      "-5.049693636239504 87.0 26.0 3.3461538461538463\n",
      "-4.820117767993086 109.0 34.0 3.2058823529411766\n",
      "-4.590541899746668 128.0 44.0 2.909090909090909\n",
      "-4.360966031500249 168.0 53.0 3.169811320754717\n",
      "-4.1313901632538315 205.0 79.0 2.5949367088607596\n",
      "-3.901814295007414 251.0 80.0 3.1375\n",
      "-3.6722384267609947 315.0 120.0 2.625\n",
      "-3.442662558514577 396.0 166.0 2.3855421686746987\n",
      "-3.213086690268158 540.0 197.0 2.7411167512690353\n",
      "-2.9835108220217403 623.0 260.0 2.396153846153846\n",
      "-2.753934953775321 792.0 276.0 2.869565217391304\n",
      "-2.5243590855289035 1010.0 362.0 2.7900552486187844\n",
      "-2.294783217282486 1339.0 478.0 2.801255230125523\n",
      "-2.0652073490360667 1685.0 621.0 2.713365539452496\n",
      "-1.8356314807896492 2081.0 753.0 2.763612217795485\n",
      "-1.60605561254323 2536.0 973.0 2.606372045220966\n",
      "-1.3764797442968124 3224.0 1195.0 2.697907949790795\n",
      "-1.1469038760503931 4123.0 1546.0 2.666882276843467\n",
      "-0.9173280078039756 5050.0 1886.0 2.6776246023329797\n",
      "-0.6877521395575581 6540.0 2383.0 2.7444397817876625\n",
      "-0.4581762713111388 8252.0 2994.0 2.756179024716099\n",
      "-0.2286004030647213 10301.0 3763.0 2.737443529099123\n",
      "0.0009754651816979987 10336.0 4726.0 2.1870503597122304\n",
      "0.2305513334281155 8133.0 5909.0 1.3763750211541717\n",
      "0.460127201674533 6515.0 7598.0 0.8574624901289813\n",
      "0.6897030699209523 5093.0 9456.0 0.5385998307952623\n",
      "0.9192789381673698 4154.0 10770.0 0.38570102135561746\n",
      "1.1488548064137891 3202.0 8911.0 0.35933116373022106\n",
      "1.3784306746602066 2589.0 6981.0 0.37086377309840995\n",
      "1.608006542906626 1929.0 5555.0 0.34725472547254727\n",
      "1.8375824111530434 1588.0 4370.0 0.36338672768878716\n",
      "2.067158279399461 1307.0 3495.0 0.37396280400572246\n",
      "2.2967341476458802 1003.0 2831.0 0.3542917696926881\n",
      "2.5263100158922978 827.0 2229.0 0.37101839389860924\n",
      "2.755885884138717 691.0 1856.0 0.3723060344827586\n",
      "2.9854617523851346 526.0 1489.0 0.35325721961047685\n",
      "3.215037620631554 409.0 1128.0 0.3625886524822695\n",
      "3.4446134888779714 351.0 867.0 0.40484429065743943\n",
      "3.674189357124389 247.0 717.0 0.34449093444909346\n",
      "3.9037652253708064 192.0 552.0 0.34782608695652173\n",
      "4.1333410936172275 177.0 451.0 0.3924611973392461\n",
      "4.362916961863645 114.0 358.0 0.31843575418994413\n",
      "4.5924928301100625 118.0 295.0 0.4\n",
      "4.82206869835648 78.0 210.0 0.37142857142857144\n",
      "5.0516445666028975 69.0 153.0 0.45098039215686275\n",
      "5.281220434849319 59.0 137.0 0.4306569343065693\n",
      "5.510796303095736 40.0 109.0 0.3669724770642202\n",
      "5.740372171342154 37.0 90.0 0.4111111111111111\n",
      "5.969948039588571 37.0 84.0 0.44047619047619047\n",
      "6.199523907834992 21.0 53.0 0.39622641509433965\n",
      "6.42909977608141 16.0 45.0 0.35555555555555557\n",
      "6.658675644327827 10.0 42.0 0.23809523809523808\n",
      "6.888251512574245 15.0 23.0 0.6521739130434783\n",
      "7.117827380820662 10.0 12.0 0.8333333333333334\n",
      "7.347403249067083 14.0 14.0 1.0\n",
      "7.576979117313501 9.0 14.0 0.6428571428571429\n",
      "7.806554985559918 5.0 17.0 0.29411764705882354\n",
      "8.036130853806336 3.0 8.0 0.375\n",
      "8.265706722052753 3.0 10.0 0.3\n",
      "8.495282590299174 1.0 6.0 0.16666666666666666\n",
      "8.724858458545592 2.0 5.0 0.4\n",
      "8.95443432679201 2.0 3.0 0.6666666666666666\n",
      "9.184010195038427 1.0 3.0 0.3333333333333333\n",
      "9.413586063284844 1.0 2.0 0.5\n",
      "9.643161931531266 0.0 1.0 0.0\n",
      "9.872737799777683 1.0 0.0 inf\n"
     ]
    },
    {
     "name": "stderr",
     "output_type": "stream",
     "text": [
      "C:\\Users\\James\\AppData\\Local\\Temp\\ipykernel_4620\\2752598180.py:6: RuntimeWarning: divide by zero encountered in double_scalars\n",
      "  print(bin_val, count1, count2, count1 / count2)\n",
      "C:\\Users\\James\\AppData\\Local\\Temp\\ipykernel_4620\\2752598180.py:6: RuntimeWarning: invalid value encountered in double_scalars\n",
      "  print(bin_val, count1, count2, count1 / count2)\n"
     ]
    },
    {
     "data": {
      "image/png": "[encoded data removed]",
      "text/plain": [
       "<Figure size 432x288 with 1 Axes>"
      ]
     },
     "metadata": {},
     "output_type": "display_data"
    }
   ],
   "source": [
    "counts1, bins, _ = plt.hist([np.random.laplace(loc=0, scale=1/1) for _ in range(100000)], bins=100)\n",
    "counts2, _, _ = plt.hist([np.random.laplace(loc=1, scale=1/1) for _ in range(100000)], bins=bins, alpha=.5)\n",
    "list(zip(bins, counts1, counts2))\n",
    "\n",
    "for bin_val, count1, count2 in zip(bins,counts1,counts2):\n",
    "    print(bin_val, count1, count2, count1 / count2) # This ratio should be less than e^epsilon\n",
    "    \n",
    "# The overlap from created from the uncertainty "
   ]
  },
  {
   "cell_type": "markdown",
   "metadata": {},
   "source": [
    "## Question 5\n",
    "\n",
    "Consider the program below."
   ]
  },
  {
   "cell_type": "code",
   "execution_count": 48,
   "metadata": {},
   "outputs": [
    {
     "name": "stdout",
     "output_type": "stream",
     "text": [
      "-0.030238976310805965 0.8885782539517675 -1.0162307391242305\n"
     ]
    }
   ],
   "source": [
    "counting_query = lambda: 1\n",
    "\n",
    "result_1 = counting_query() + np.random.laplace(loc=0, scale=1/epsilon1)\n",
    "result_2 = counting_query() + np.random.laplace(loc=0, scale=1/epsilon2)\n",
    "result_3 = counting_query() + np.random.laplace(loc=0, scale=1/epsilon1)\n",
    "\n",
    "print(result_1, result_2, result_3)"
   ]
  },
  {
   "cell_type": "markdown",
   "metadata": {},
   "source": [
    "Write a function `total_epsilon` that returns the total privacy cost for this program."
   ]
  },
  {
   "cell_type": "code",
   "execution_count": 49,
   "metadata": {
    "deletable": false,
    "nbgrader": {
     "cell_type": "code",
     "checksum": "acf2948c80694922d54ad353bd5dfce3",
     "grade": false,
     "grade_id": "cell-32b1cdb0a2990e8f",
     "locked": false,
     "schema_version": 3,
     "solution": true,
     "task": false
    }
   },
   "outputs": [
    {
     "data": {
      "text/plain": [
       "4.0"
      ]
     },
     "execution_count": 49,
     "metadata": {},
     "output_type": "execute_result"
    }
   ],
   "source": [
    "# Sequential composition... Need two mechanisms ensuring differential privacy to get differential privacy.\n",
    "# Scale analogy! Adding up epsilons (privacy parameter/budget)\n",
    "\n",
    "def total_epsilon():\n",
    "    return epsilon1 + epsilon2 + epsilon1\n",
    "    \n",
    "total_epsilon()"
   ]
  },
  {
   "cell_type": "code",
   "execution_count": null,
   "metadata": {
    "deletable": false,
    "editable": false,
    "nbgrader": {
     "cell_type": "code",
     "checksum": "77f0d3f25290c6a4d64e9fed5fdb91fe",
     "grade": true,
     "grade_id": "cell-e484920fc1429ad0",
     "locked": true,
     "points": 5,
     "schema_version": 3,
     "solution": false,
     "task": false
    }
   },
   "outputs": [],
   "source": [
    "# Placeholder for test case\n"
   ]
  }
 ],
 "metadata": {
  "kernelspec": {
   "display_name": "Python 3 (ipykernel)",
   "language": "python",
   "name": "python3"
  },
  "language_info": {
   "codemirror_mode": {
    "name": "ipython",
    "version": 3
   },
   "file_extension": ".py",
   "mimetype": "text/x-python",
   "name": "python",
   "nbconvert_exporter": "python",
   "pygments_lexer": "ipython3",
   "version": "3.9.12"
  }
 },
 "nbformat": 4,
 "nbformat_minor": 4
}
