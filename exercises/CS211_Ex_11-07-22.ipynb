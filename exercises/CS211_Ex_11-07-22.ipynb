{
 "cells": [
  {
   "cell_type": "markdown",
   "metadata": {},
   "source": [
    "# CS211: Data Privacy\n",
    "## In-Class Exercise, week of 11/07/2022"
   ]
  },
  {
   "cell_type": "code",
   "execution_count": 2,
   "metadata": {},
   "outputs": [
    {
     "name": "stderr",
     "output_type": "stream",
     "text": [
      "/tmp/ipykernel_5240/2772952464.py:6: MatplotlibDeprecationWarning: The seaborn styles shipped by Matplotlib are deprecated since 3.6, as they no longer correspond to the styles shipped by seaborn. However, they will remain available as 'seaborn-v0_8-<style>'. Alternatively, directly use the seaborn API instead.\n",
      "  plt.style.use('seaborn-whitegrid')\n"
     ]
    }
   ],
   "source": [
    "# Load the data and libraries\n",
    "import pandas as pd\n",
    "import numpy as np\n",
    "from scipy import stats\n",
    "import matplotlib.pyplot as plt\n",
    "plt.style.use('seaborn-whitegrid')\n",
    "\n",
    "def laplace_mech(v, sensitivity, epsilon):\n",
    "    return v + np.random.laplace(loc=0, scale=sensitivity / epsilon)\n",
    "\n",
    "def gaussian_mech(v, sensitivity, epsilon, delta):\n",
    "    return v + np.random.normal(loc=0, scale=sensitivity * np.sqrt(2*np.log(1.25/delta)) / epsilon)\n",
    "\n",
    "def gaussian_mech_vec(vec, sensitivity, epsilon, delta):\n",
    "    return [v + np.random.normal(loc=0, scale=sensitivity * np.sqrt(2*np.log(1.25/delta)) / epsilon)\n",
    "            for v in vec]\n",
    "\n",
    "def pct_error(orig, priv):\n",
    "    return np.abs(orig - priv)/orig * 100.0\n",
    "\n",
    "adult = pd.read_csv('https://github.com/jnear/cs211-data-privacy/raw/master/homework/adult_with_pii.csv')"
   ]
  },
  {
   "cell_type": "markdown",
   "metadata": {},
   "source": [
    "## Class Notes"
   ]
  },
  {
   "cell_type": "markdown",
   "metadata": {},
   "source": [
    "Local DP and local sensitivity are not the same thing\n",
    "- Up to this point we have been looking at a central model of DP... there is a single server holding the data and other parties communicate with it to get the information they need\n",
    "Randomized Response uses more randomness to calculate local differential privacy "
   ]
  },
  {
   "cell_type": "markdown",
   "metadata": {},
   "source": [
    "## Question 1\n",
    "\n",
    "Implement an *encoding function* for randomized response to a \"yes/no\" question.\n",
    "\n",
    "Reference [Chapter 13](https://uvm-plaid.github.io/programming-dp/notebooks/ch13.html#randomized-response)."
   ]
  },
  {
   "cell_type": "code",
   "execution_count": 3,
   "metadata": {
    "deletable": false,
    "nbgrader": {
     "cell_type": "code",
     "checksum": "585becc6c2a189f373fbed5bf9d92571",
     "grade": false,
     "grade_id": "cell-c52b65e148358a20",
     "locked": false,
     "schema_version": 3,
     "solution": true,
     "task": false
    }
   },
   "outputs": [
    {
     "name": "stdout",
     "output_type": "stream",
     "text": [
      "Randomized response: True\n",
      "Randomized response: True\n",
      "Randomized response: True\n",
      "Randomized response: True\n",
      "Randomized response: True\n"
     ]
    }
   ],
   "source": [
    "# Implementation of encoding random response algorithm for local differential privacy\n",
    "def encode_rand_resp_yes_no(true_response):\n",
    "    # Flip a coin \n",
    "    c1 = np.random.randint(0, 2)\n",
    "    \n",
    "    # If heads answers truthfully\n",
    "    if c1 == 0:\n",
    "        return true_response\n",
    "    else:\n",
    "        # if tails flip another coin\n",
    "        c2 = np.random.randint(0,2)\n",
    "        if c2 == 0:\n",
    "            return True\n",
    "        else:\n",
    "            return False\n",
    "        \n",
    "for _ in range(5):\n",
    "    print('Randomized response:', encode_rand_resp_yes_no(True))"
   ]
  },
  {
   "cell_type": "code",
   "execution_count": 4,
   "metadata": {
    "deletable": false,
    "editable": false,
    "nbgrader": {
     "cell_type": "code",
     "checksum": "dd3171935ae026a2a87d2f9c0cfb0b0f",
     "grade": true,
     "grade_id": "cell-5fa94c04030de1ba",
     "locked": true,
     "points": 5,
     "schema_version": 3,
     "solution": false,
     "task": false
    }
   },
   "outputs": [],
   "source": [
    "# TEST CASE\n",
    "assert np.sum([encode_rand_resp_yes_no(True) for _ in range(100)]) > 60\n",
    "assert np.sum([encode_rand_resp_yes_no(True) for _ in range(100)]) < 90"
   ]
  },
  {
   "cell_type": "markdown",
   "metadata": {},
   "source": [
    "## Question 2\n",
    "\n",
    "Implement a *decoding function* for randomized response to a \"yes/no\" question."
   ]
  },
  {
   "cell_type": "code",
   "execution_count": 5,
   "metadata": {
    "deletable": false,
    "nbgrader": {
     "cell_type": "code",
     "checksum": "35ba81913900c6e8994022dedc101641",
     "grade": false,
     "grade_id": "cell-3d62f78f67a975f0",
     "locked": false,
     "schema_version": 3,
     "solution": true,
     "task": false
    }
   },
   "outputs": [
    {
     "name": "stdout",
     "output_type": "stream",
     "text": [
      "Number of \"True\" yesses: 1000\n",
      "Decoded randomized response yesses: 1050.0\n"
     ]
    }
   ],
   "source": [
    "def decode_rand_resp_yes_no(responses):\n",
    "    # Decode the results of randomized responses\n",
    "    all_yesses = np.sum(responses)\n",
    "    \n",
    "    # Subtract the number of fake yesses\n",
    "    fake_yesses = (1/4)*len(responses)\n",
    "    true_yesses = all_yesses - fake_yesses\n",
    "    \n",
    "    # Multiply by 2\n",
    "    return 2*true_yesses\n",
    "\n",
    "# Example: 1000 \"yesses\" and 500 \"nos\"\n",
    "true_responses = [True for _ in range(1000)] + [False for _ in range(500)]\n",
    "print('Number of \"True\" yesses:', np.sum(true_responses))\n",
    "\n",
    "# Randomized responses\n",
    "# Each response satisfies 1.09-differential privacy\n",
    "rand_responses = [encode_rand_resp_yes_no(r) for r in true_responses]\n",
    "\n",
    "# Decode the responses by subtracting \"fake\" yesses\n",
    "print('Decoded randomized response yesses:', decode_rand_resp_yes_no(rand_responses))"
   ]
  },
  {
   "cell_type": "code",
   "execution_count": 6,
   "metadata": {
    "deletable": false,
    "editable": false,
    "nbgrader": {
     "cell_type": "code",
     "checksum": "03118c1fcd501bb7a6d74244d45f6dd8",
     "grade": true,
     "grade_id": "cell-cc5191292192a8f0",
     "locked": true,
     "points": 5,
     "schema_version": 3,
     "solution": false,
     "task": false
    }
   },
   "outputs": [],
   "source": [
    "# TEST CASE\n",
    "true_responses = [True for _ in range(1000)] + [False for _ in range(500)]\n",
    "\n",
    "# Randomized responses\n",
    "# Each response satisfies 1.09-differential privacy\n",
    "rand_responses = [encode_rand_resp_yes_no(r) for r in true_responses]\n",
    "\n",
    "# Decode the responses by subtracting \"fake\" yesses\n",
    "assert decode_rand_resp_yes_no(rand_responses) < 1100\n",
    "assert decode_rand_resp_yes_no(rand_responses) > 900"
   ]
  },
  {
   "cell_type": "markdown",
   "metadata": {},
   "source": [
    "## Question 3\n",
    "\n",
    "Use the definition of randomized response above to answer the question:\n",
    "\n",
    "*How many individuals in the `adult` dataset have `Occupation` = `Sales`?*"
   ]
  },
  {
   "cell_type": "code",
   "execution_count": 11,
   "metadata": {
    "deletable": false,
    "nbgrader": {
     "cell_type": "code",
     "checksum": "bb151fbc3658f27bca2eb4e0b00a7cc1",
     "grade": true,
     "grade_id": "cell-70d43cb566527293",
     "locked": false,
     "points": 5,
     "schema_version": 3,
     "solution": true,
     "task": false
    }
   },
   "outputs": [
    {
     "data": {
      "text/plain": [
       "3723.5"
      ]
     },
     "execution_count": 11,
     "metadata": {},
     "output_type": "execute_result"
    }
   ],
   "source": [
    "# take a single occupation from the adult dataset, and return a single response\n",
    "def encode_response_sales(response):\n",
    "    true_response = response == 'Sales'\n",
    "    randomized_response = encode_rand_resp_yes_no(true_response)\n",
    "    return randomized_response\n",
    "    \n",
    "def decode_responses_sales(responses):\n",
    "    approximate_yesses = decode_rand_resp_yes_no(responses)\n",
    "    return approximate_yesses\n",
    "\n",
    "responses = [encode_response_sales(r) for r in adult['Occupation']]\n",
    "decode_responses_sales(responses)"
   ]
  },
  {
   "cell_type": "code",
   "execution_count": null,
   "metadata": {},
   "outputs": [],
   "source": [
    "# How accurate is the answer above?\n",
    "true_sales = np.sum(adult['Occupation'] == 'Sales')\n",
    "print('True number of salespeople:', true_sales)"
   ]
  },
  {
   "cell_type": "markdown",
   "metadata": {},
   "source": [
    "## Question 4\n",
    "\n",
    "Implement the *encode* and *perturb* steps for Optimized Unary Hashing."
   ]
  },
  {
   "cell_type": "code",
   "execution_count": 15,
   "metadata": {
    "deletable": false,
    "nbgrader": {
     "cell_type": "code",
     "checksum": "94f69181b7d48360d0c38a8835f8ab80",
     "grade": true,
     "grade_id": "cell-1809db88535aed7e",
     "locked": false,
     "points": 0,
     "schema_version": 3,
     "solution": true,
     "task": false
    }
   },
   "outputs": [
    {
     "data": {
      "text/plain": [
       "[0, 0, 0, 0, 0, 1, 1, 1, 0, 0, 1, 0, 0, 1]"
      ]
     },
     "execution_count": 15,
     "metadata": {},
     "output_type": "execute_result"
    }
   ],
   "source": [
    "domain = adult['Occupation'].dropna().unique()\n",
    "domain\n",
    "\n",
    "def perturb(encoded_response):\n",
    "    return [perturb_bit(b) for b in encoded_response]\n",
    "\n",
    "def perturb_bit(bit):\n",
    "    p = .75\n",
    "    q = .25\n",
    "\n",
    "    sample = np.random.random()\n",
    "    if bit == 1:\n",
    "        if sample <= p:\n",
    "            return 1\n",
    "        else:\n",
    "            return 0\n",
    "    elif bit == 0:\n",
    "        if sample <= q:\n",
    "            return 1\n",
    "        else: \n",
    "            return 0\n",
    "\n",
    "\n",
    "def encode(response):\n",
    "    # want to build a one-hot encoding of the response\n",
    "    # based on the domain domain\n",
    "    #return [1 if response == v else 0 for v in domain]\n",
    "    one_hot_vector = []\n",
    "    for v in domain:\n",
    "        if v==response:\n",
    "            one_hot_vector.append(1)\n",
    "        else:\n",
    "            one_hot_vector.append(0)\n",
    "    return one_hot_vector\n",
    "    \n",
    "    \n",
    "\n",
    "perturb(encode('Sales'))"
   ]
  },
  {
   "cell_type": "code",
   "execution_count": 16,
   "metadata": {},
   "outputs": [
    {
     "data": {
      "text/plain": [
       "[('Adm-clerical', 10075),\n",
       " ('Exec-managerial', 10142),\n",
       " ('Handlers-cleaners', 8758),\n",
       " ('Prof-specialty', 10276),\n",
       " ('Other-service', 9731),\n",
       " ('Sales', 9844),\n",
       " ('Craft-repair', 10041),\n",
       " ('Transport-moving', 8963),\n",
       " ('Farming-fishing', 8598),\n",
       " ('Machine-op-inspct', 9079),\n",
       " ('Tech-support', 8555),\n",
       " ('Protective-serv', 8444),\n",
       " ('Armed-Forces', 8208),\n",
       " ('Priv-house-serv', 8273)]"
      ]
     },
     "execution_count": 16,
     "metadata": {},
     "output_type": "execute_result"
    }
   ],
   "source": [
    "# As in randomized response, flipping of bits causes issues in the answers\n",
    "# This is the perturbed answer (without decoding)\n",
    "counts = np.sum([perturb(encode(r)) for r in adult['Occupation']], axis=0)\n",
    "list(zip(domain, counts))"
   ]
  },
  {
   "cell_type": "code",
   "execution_count": 17,
   "metadata": {},
   "outputs": [
    {
     "data": {
      "text/plain": [
       "[('Adm-clerical', 3770),\n",
       " ('Exec-managerial', 4066),\n",
       " ('Handlers-cleaners', 1370),\n",
       " ('Prof-specialty', 4140),\n",
       " ('Other-service', 3295),\n",
       " ('Sales', 3650),\n",
       " ('Craft-repair', 4099),\n",
       " ('Transport-moving', 1597),\n",
       " ('Farming-fishing', 994),\n",
       " ('Machine-op-inspct', 2002),\n",
       " ('Tech-support', 928),\n",
       " ('Protective-serv', 649),\n",
       " ('Armed-Forces', 9),\n",
       " ('Priv-house-serv', 149)]"
      ]
     },
     "execution_count": 17,
     "metadata": {},
     "output_type": "execute_result"
    }
   ],
   "source": [
    "# This is the real answer\n",
    "counts = np.sum([encode(r) for r in adult['Occupation']], axis=0)\n",
    "list(zip(domain, counts))"
   ]
  },
  {
   "cell_type": "markdown",
   "metadata": {},
   "source": [
    "## Question 5\n",
    "\n",
    "Implement the *aggregate* step for Optimized Unary Hashing."
   ]
  },
  {
   "cell_type": "code",
   "execution_count": 24,
   "metadata": {
    "deletable": false,
    "nbgrader": {
     "cell_type": "code",
     "checksum": "09c92809a8c72fd160565bf7d09496dd",
     "grade": true,
     "grade_id": "cell-0c8cd0a758266161",
     "locked": false,
     "points": 5,
     "schema_version": 3,
     "solution": true,
     "task": false
    }
   },
   "outputs": [
    {
     "data": {
      "text/plain": [
       "[('Adm-clerical', -6162.5),\n",
       " ('Exec-managerial', -6173.5),\n",
       " ('Handlers-cleaners', -7351.5),\n",
       " ('Prof-specialty', -5979.5),\n",
       " ('Other-service', -6332.5),\n",
       " ('Sales', -6303.5),\n",
       " ('Craft-repair', -6191.5),\n",
       " ('Transport-moving', -7278.5),\n",
       " ('Farming-fishing', -7600.5),\n",
       " ('Machine-op-inspct', -7012.5),\n",
       " ('Tech-support', -7659.5),\n",
       " ('Protective-serv', -7786.5),\n",
       " ('Armed-Forces', -8144.5),\n",
       " ('Priv-house-serv', -8020.5)]"
      ]
     },
     "execution_count": 24,
     "metadata": {},
     "output_type": "execute_result"
    }
   ],
   "source": [
    "def aggregate(responses):\n",
    "    p = .75\n",
    "    q = .25\n",
    "    \n",
    "    sums = np.sum(responses, axis=0)\n",
    "    n= len(responses)\n",
    "    \n",
    "    answer = [su-n*q/(p-q) for su in sums]\n",
    "    return answer\n",
    "\n",
    "responses = [perturb(encode(r)) for r in adult['Occupation']]\n",
    "counts = aggregate(responses)\n",
    "list(zip(domain, counts))"
   ]
  },
  {
   "cell_type": "code",
   "execution_count": 25,
   "metadata": {},
   "outputs": [
    {
     "data": {
      "text/plain": [
       "-1.7917594692280554"
      ]
     },
     "execution_count": 25,
     "metadata": {},
     "output_type": "execute_result"
    }
   ],
   "source": [
    "p = .6 # How likley to keep 1 as 1\n",
    "q = .9 # How likley to flip 0 to 1\n",
    "# large p -> better accuracy, worse privacy\n",
    "# small q -> better accuracy, worse privacy\n",
    "\n",
    "np.log((p*(1-q)) / ((1-p)*q))"
   ]
  },
  {
   "cell_type": "code",
   "execution_count": null,
   "metadata": {},
   "outputs": [],
   "source": []
  }
 ],
 "metadata": {
  "kernelspec": {
   "display_name": "Python 3 (ipykernel)",
   "language": "python",
   "name": "python3"
  },
  "language_info": {
   "codemirror_mode": {
    "name": "ipython",
    "version": 3
   },
   "file_extension": ".py",
   "mimetype": "text/x-python",
   "name": "python",
   "nbconvert_exporter": "python",
   "pygments_lexer": "ipython3",
   "version": "3.10.8"
  }
 },
 "nbformat": 4,
 "nbformat_minor": 4
}
