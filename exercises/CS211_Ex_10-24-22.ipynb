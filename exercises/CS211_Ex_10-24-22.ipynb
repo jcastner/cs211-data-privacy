{
 "cells": [
  {
   "cell_type": "markdown",
   "metadata": {},
   "source": [
    "# CS211: Data Privacy\n",
    "## In-Class Exercise, 10/24/2022"
   ]
  },
  {
   "cell_type": "code",
   "execution_count": 1,
   "metadata": {},
   "outputs": [
    {
     "name": "stderr",
     "output_type": "stream",
     "text": [
      "/tmp/ipykernel_15305/4252180317.py:6: MatplotlibDeprecationWarning: The seaborn styles shipped by Matplotlib are deprecated since 3.6, as they no longer correspond to the styles shipped by seaborn. However, they will remain available as 'seaborn-v0_8-<style>'. Alternatively, directly use the seaborn API instead.\n",
      "  plt.style.use('seaborn-whitegrid')\n"
     ]
    }
   ],
   "source": [
    "# Load the data and libraries\n",
    "import pandas as pd\n",
    "import numpy as np\n",
    "from scipy import stats\n",
    "import matplotlib.pyplot as plt\n",
    "plt.style.use('seaborn-whitegrid')\n",
    "\n",
    "def laplace_mech(v, sensitivity, epsilon):\n",
    "    return v + np.random.laplace(loc=0, scale=sensitivity / epsilon)\n",
    "\n",
    "def gaussian_mech(v, sensitivity, epsilon, delta):\n",
    "    return v + np.random.normal(loc=0, scale=sensitivity * np.sqrt(2*np.log(1.25/delta)) / epsilon)\n",
    "\n",
    "def pct_error(orig, priv):\n",
    "    return np.abs(orig - priv)/orig * 100.0\n",
    "\n",
    "adult = pd.read_csv('https://github.com/jnear/cs211-data-privacy/raw/master/homework/adult_with_pii.csv')"
   ]
  },
  {
   "cell_type": "markdown",
   "metadata": {},
   "source": [
    "## Question 1\n",
    "\n",
    "The code below defines a finite set of options for marital status. Define a *scoring function* that returns high scores for common marital statuses, and low scores for uncommon ones (e.g. the score could be the number of people with that status)."
   ]
  },
  {
   "cell_type": "code",
   "execution_count": 2,
   "metadata": {
    "deletable": false,
    "nbgrader": {
     "cell_type": "code",
     "checksum": "f2b30a07987206ae63d2b29bc5027926",
     "grade": false,
     "grade_id": "cell-d1a5aa9094ce97d0",
     "locked": false,
     "schema_version": 3,
     "solution": true,
     "task": false
    }
   },
   "outputs": [
    {
     "data": {
      "text/plain": [
       "10683"
      ]
     },
     "execution_count": 2,
     "metadata": {},
     "output_type": "execute_result"
    }
   ],
   "source": [
    "# What is the most popular marital stuats?\n",
    "adult['Marital Status'].value_counts()\n",
    "# The answers is the highest row of value_counts()!\n",
    "\n",
    "options = ['Never-married', 'Married-civ-spouse', 'Divorced',\n",
    "           'Married-spouse-absent', 'Separated', 'Married-AF-spouse',\n",
    "           'Widowed']\n",
    "\n",
    "# Sensitivity is important, sens of 1 is easiest case (using a counting query)\n",
    "def score(option):\n",
    "    count = len(adult[adult['Marital Status'] == option]) # Adults of the option we are currently scoring\n",
    "    return count # Don't have to be on any particular scale\n",
    "\n",
    "\n",
    "score('Never-married')"
   ]
  },
  {
   "cell_type": "code",
   "execution_count": 3,
   "metadata": {
    "deletable": false,
    "editable": false,
    "nbgrader": {
     "cell_type": "code",
     "checksum": "3f9bdf533c05c1c53bfde3cf0f779a50",
     "grade": true,
     "grade_id": "cell-c4f7745dc6a4cdd2",
     "locked": true,
     "points": 5,
     "schema_version": 3,
     "solution": false,
     "task": false
    }
   },
   "outputs": [],
   "source": [
    "# TEST CASE\n",
    "assert score('Never-married') == 10683"
   ]
  },
  {
   "cell_type": "markdown",
   "metadata": {},
   "source": [
    "## Question 2\n",
    "\n",
    "Implement `report_noisy_max` using the Laplace mechanism. `report_noisy_max` should return the value in a set that approximately maximizes the value of the score function. It should *not* return the score itself."
   ]
  },
  {
   "cell_type": "code",
   "execution_count": 4,
   "metadata": {
    "deletable": false,
    "nbgrader": {
     "cell_type": "code",
     "checksum": "7b00037e751412f7e20784a3fe27e19c",
     "grade": false,
     "grade_id": "cell-8b6fef56dcfaa9ad",
     "locked": false,
     "schema_version": 3,
     "solution": true,
     "task": false
    }
   },
   "outputs": [
    {
     "data": {
      "text/plain": [
       "'Married-civ-spouse'"
      ]
     },
     "execution_count": 4,
     "metadata": {},
     "output_type": "execute_result"
    }
   ],
   "source": [
    "# Easiest way to noisify a categorical type question\n",
    "# 1. Calc all the scores\n",
    "# 2. Add nosie to all scores\n",
    "# 3. pick option r in R with the biggest noisy score\n",
    "# 4. Can use the laplace mech\n",
    "# Step 2 satifies DP of the laplace + sequential comp\n",
    "# step 3 satisfies Dp by post processing\n",
    "def report_noisy_max(R, score, sensitivity, epsilon):\n",
    "    # 1. Calc scores\n",
    "    scores = []\n",
    "    for r in R:\n",
    "        scores.append(score(r))\n",
    "    # 2. add noisy scores\n",
    "    noisy_scores = [laplace_mech(s, 1, epsilon) for s in scores] # sens of 1 depends on the score method! Our score method is just a counting query so it maintinas a sens of 1\n",
    "    \n",
    "    #3. pick the option r in R with the biggest noisy score\n",
    "    max_idx = np.argmax(noisy_scores)\n",
    "    return R[max_idx]\n",
    "\n",
    "\n",
    "report_noisy_max(options, score, 1, 1)"
   ]
  },
  {
   "cell_type": "code",
   "execution_count": 5,
   "metadata": {},
   "outputs": [
    {
     "data": {
      "text/plain": [
       "[1.0000534164266066,\n",
       " 1.0000748828035773,\n",
       " 1.0000222152467548,\n",
       " 1.000002090002184,\n",
       " 1.0000051250131328,\n",
       " 1.0000001150000066,\n",
       " 1.0000049650123257]"
      ]
     },
     "execution_count": 5,
     "metadata": {},
     "output_type": "execute_result"
    }
   ],
   "source": [
    "scores = []\n",
    "\n",
    "for r in options:\n",
    "    scores.append(score(r))\n",
    "epsilon = .00000001\n",
    "probs = [np.exp((epsilon * s) / (2 * 1)) for s in scores] # 2 * 1, the 1 part is the sensitivity\n",
    "np.array(probs) / sum(probs)\n",
    "probs\n",
    "\n",
    "# Important tool for reducing privacy cost when given a set of options\n",
    "# Making epsilon smaller, these probs get closer to 1\n",
    "# Same property where sometimes you get the wrong answer but the smaller epsilon is, the more likley you are to get the wrong answer"
   ]
  },
  {
   "cell_type": "code",
   "execution_count": null,
   "metadata": {
    "deletable": false,
    "editable": false,
    "nbgrader": {
     "cell_type": "code",
     "checksum": "2996669dd465029625bbc785d4b3596b",
     "grade": true,
     "grade_id": "cell-795dae7b161f7ed7",
     "locked": true,
     "points": 5,
     "schema_version": 3,
     "solution": false,
     "task": false
    }
   },
   "outputs": [],
   "source": [
    "# TEST CASE\n",
    "assert report_noisy_max(options, score, 1, 1) == 'Married-civ-spouse'"
   ]
  },
  {
   "cell_type": "markdown",
   "metadata": {},
   "source": [
    "## Question 3\n",
    "\n",
    "What is the **total privacy cost** of `report_noisy_max` under *sequential composition*?"
   ]
  },
  {
   "cell_type": "markdown",
   "metadata": {
    "deletable": false,
    "nbgrader": {
     "cell_type": "markdown",
     "checksum": "fbfbb2383c4926bd223edac3ec7571fa",
     "grade": true,
     "grade_id": "cell-20c5b0a19f18423c",
     "locked": false,
     "points": 5,
     "schema_version": 3,
     "solution": true,
     "task": false
    }
   },
   "source": [
    "- There are 7 options for R\n",
    "- So we call the laplace mech 7 times\n",
    "- The sens of scoring function is 1 so we use a sens of 1 for the laplace mech\n",
    "- Sequential comp says the total privacy cost will then be 7*epsilon\n",
    "- By post processing, the final answer has total privacy cost 7*epsilon\n",
    "\n",
    "Because report noisy max is equivalent to the exponential mech, we can conclue the total privacy cost is just epsilon"
   ]
  },
  {
   "cell_type": "markdown",
   "metadata": {},
   "source": [
    "## Above Threshold\n",
    "\n",
    "The following code implements Above Threshold:"
   ]
  },
  {
   "cell_type": "code",
   "execution_count": 14,
   "metadata": {},
   "outputs": [],
   "source": [
    "# preserves epsilon-differential privacy\n",
    "def above_threshold(queries, df, T, epsilon):\n",
    "    T_hat = T + np.random.laplace(loc=0, scale = 2/epsilon)\n",
    "    \n",
    "    for idx, q in enumerate(queries):\n",
    "        nu_i = np.random.laplace(loc=0, scale = 4/epsilon)\n",
    "        if q(df) + nu_i >= T_hat:\n",
    "            return idx\n",
    "    return -1 # the index of the last element"
   ]
  },
  {
   "cell_type": "markdown",
   "metadata": {},
   "source": [
    "## Question 4\n",
    "\n",
    "Use `above_threshold` to find the first `age` for which `len(adult[adult['Age'] == age]) >= 800` (the first age for which more than 800 people have that age)."
   ]
  },
  {
   "cell_type": "code",
   "execution_count": 15,
   "metadata": {
    "deletable": false,
    "nbgrader": {
     "cell_type": "code",
     "checksum": "6e94ece812e646c7177c2e86ae267d7f",
     "grade": false,
     "grade_id": "cell-cca35e2da948a4c4",
     "locked": false,
     "schema_version": 3,
     "solution": true,
     "task": false
    }
   },
   "outputs": [
    {
     "data": {
      "text/plain": [
       "22"
      ]
     },
     "execution_count": 15,
     "metadata": {},
     "output_type": "execute_result"
    }
   ],
   "source": [
    "def make_query(age):\n",
    "    def q(df):\n",
    "        return len(df[df['Age'] == age])\n",
    "    return q\n",
    "\n",
    "def find_first_age_above_800(epsilon):\n",
    "    Q = [make_query(age) for age in range(1, 100)]\n",
    "    answers = [q(adult) for q in Q]\n",
    "    noisy_answers = [laplace_mech(a, 1, epsilon) for a in answers]\n",
    "    idx = 0\n",
    "    for noisy_answer in noisy_answers:\n",
    "        if noisy_answer >= 800:\n",
    "            return idx\n",
    "        idx += 1\n",
    "    \n",
    "find_first_age_above_800(1.0)"
   ]
  },
  {
   "cell_type": "code",
   "execution_count": 16,
   "metadata": {
    "deletable": false,
    "editable": false,
    "nbgrader": {
     "cell_type": "code",
     "checksum": "44df466169d3746e64bdb9cee9b01f3b",
     "grade": true,
     "grade_id": "cell-cee279ee8d01cbd0",
     "locked": true,
     "points": 5,
     "schema_version": 3,
     "solution": false,
     "task": false
    }
   },
   "outputs": [],
   "source": [
    "# TEST CASE\n",
    "assert find_first_age_above_800(1.0) == 22"
   ]
  },
  {
   "cell_type": "markdown",
   "metadata": {},
   "source": [
    "## Question 5\n",
    "\n",
    "Use `above_threshold` to implement `pick_b` for the following summation query. `pick_b` should pick a clipping parameter `b`."
   ]
  },
  {
   "cell_type": "code",
   "execution_count": 17,
   "metadata": {
    "deletable": false,
    "nbgrader": {
     "cell_type": "code",
     "checksum": "422dfdf5bc889bccb8ad91d0265f43ea",
     "grade": false,
     "grade_id": "cell-6f208369f5060173",
     "locked": false,
     "schema_version": 3,
     "solution": true,
     "task": false
    }
   },
   "outputs": [
    {
     "ename": "TypeError",
     "evalue": "'NoneType' object is not callable",
     "output_type": "error",
     "traceback": [
      "\u001b[0;31m---------------------------------------------------------------------------\u001b[0m",
      "\u001b[0;31mTypeError\u001b[0m                                 Traceback (most recent call last)",
      "Cell \u001b[0;32mIn [17], line 13\u001b[0m\n\u001b[1;32m     10\u001b[0m     idx \u001b[38;5;241m=\u001b[39m above_threshold(Q, adult, \u001b[38;5;241m0\u001b[39m, epsilon)\n\u001b[1;32m     11\u001b[0m     \u001b[38;5;28;01mreturn\u001b[39;00m idx\n\u001b[0;32m---> 13\u001b[0m \u001b[43mpick_b\u001b[49m\u001b[43m(\u001b[49m\u001b[38;5;241;43m1.0\u001b[39;49m\u001b[43m)\u001b[49m\n",
      "Cell \u001b[0;32mIn [17], line 10\u001b[0m, in \u001b[0;36mpick_b\u001b[0;34m(epsilon)\u001b[0m\n\u001b[1;32m      8\u001b[0m B \u001b[38;5;241m=\u001b[39m \u001b[38;5;28mrange\u001b[39m(\u001b[38;5;241m1\u001b[39m, \u001b[38;5;241m1000\u001b[39m)\n\u001b[1;32m      9\u001b[0m Q \u001b[38;5;241m=\u001b[39m [make_query(b) \u001b[38;5;28;01mfor\u001b[39;00m b \u001b[38;5;129;01min\u001b[39;00m B]\n\u001b[0;32m---> 10\u001b[0m idx \u001b[38;5;241m=\u001b[39m \u001b[43mabove_threshold\u001b[49m\u001b[43m(\u001b[49m\u001b[43mQ\u001b[49m\u001b[43m,\u001b[49m\u001b[43m \u001b[49m\u001b[43madult\u001b[49m\u001b[43m,\u001b[49m\u001b[43m \u001b[49m\u001b[38;5;241;43m0\u001b[39;49m\u001b[43m,\u001b[49m\u001b[43m \u001b[49m\u001b[43mepsilon\u001b[49m\u001b[43m)\u001b[49m\n\u001b[1;32m     11\u001b[0m \u001b[38;5;28;01mreturn\u001b[39;00m idx\n",
      "Cell \u001b[0;32mIn [14], line 7\u001b[0m, in \u001b[0;36mabove_threshold\u001b[0;34m(queries, df, T, epsilon)\u001b[0m\n\u001b[1;32m      5\u001b[0m \u001b[38;5;28;01mfor\u001b[39;00m idx, q \u001b[38;5;129;01min\u001b[39;00m \u001b[38;5;28menumerate\u001b[39m(queries):\n\u001b[1;32m      6\u001b[0m     nu_i \u001b[38;5;241m=\u001b[39m np\u001b[38;5;241m.\u001b[39mrandom\u001b[38;5;241m.\u001b[39mlaplace(loc\u001b[38;5;241m=\u001b[39m\u001b[38;5;241m0\u001b[39m, scale \u001b[38;5;241m=\u001b[39m \u001b[38;5;241m4\u001b[39m\u001b[38;5;241m/\u001b[39mepsilon)\n\u001b[0;32m----> 7\u001b[0m     \u001b[38;5;28;01mif\u001b[39;00m \u001b[43mq\u001b[49m\u001b[43m(\u001b[49m\u001b[43mdf\u001b[49m\u001b[43m)\u001b[49m \u001b[38;5;241m+\u001b[39m nu_i \u001b[38;5;241m>\u001b[39m\u001b[38;5;241m=\u001b[39m T_hat:\n\u001b[1;32m      8\u001b[0m         \u001b[38;5;28;01mreturn\u001b[39;00m idx\n\u001b[1;32m      9\u001b[0m \u001b[38;5;28;01mreturn\u001b[39;00m \u001b[38;5;241m-\u001b[39m\u001b[38;5;241m1\u001b[39m\n",
      "\u001b[0;31mTypeError\u001b[0m: 'NoneType' object is not callable"
     ]
    }
   ],
   "source": [
    "def make_query(b):\n",
    "    def q(df):\n",
    "        first = df['Age'].clip(lower=0, upper=b).sum()\n",
    "        second = df['Age'].clip(lower=0, upper=b+1).sum()\n",
    "        return first - second\n",
    "\n",
    "def pick_b(epsilon):\n",
    "    B = range(1, 1000)\n",
    "    Q = [make_query(b) for b in B]\n",
    "    idx = above_threshold(Q, adult, 0, epsilon)\n",
    "    return idx\n",
    "    \n",
    "pick_b(1.0)"
   ]
  },
  {
   "cell_type": "code",
   "execution_count": 13,
   "metadata": {
    "deletable": false,
    "editable": false,
    "nbgrader": {
     "cell_type": "code",
     "checksum": "d19a8a3adafadaabc81609d3d340cbc3",
     "grade": true,
     "grade_id": "cell-9d138a4533e63a07",
     "locked": true,
     "points": 5,
     "schema_version": 3,
     "solution": false,
     "task": false
    }
   },
   "outputs": [
    {
     "ename": "NameError",
     "evalue": "name 'above_threshold' is not defined",
     "output_type": "error",
     "traceback": [
      "\u001b[0;31m---------------------------------------------------------------------------\u001b[0m",
      "\u001b[0;31mNameError\u001b[0m                                 Traceback (most recent call last)",
      "Cell \u001b[0;32mIn [13], line 2\u001b[0m\n\u001b[1;32m      1\u001b[0m \u001b[38;5;66;03m# TEST CASE\u001b[39;00m\n\u001b[0;32m----> 2\u001b[0m b \u001b[38;5;241m=\u001b[39m \u001b[43mpick_b\u001b[49m\u001b[43m(\u001b[49m\u001b[38;5;241;43m1.0\u001b[39;49m\u001b[43m)\u001b[49m\n\u001b[1;32m      3\u001b[0m \u001b[38;5;28;01massert\u001b[39;00m b \u001b[38;5;241m>\u001b[39m \u001b[38;5;241m80\u001b[39m\n\u001b[1;32m      4\u001b[0m \u001b[38;5;28;01massert\u001b[39;00m b \u001b[38;5;241m<\u001b[39m \u001b[38;5;241m100\u001b[39m\n",
      "Cell \u001b[0;32mIn [12], line 10\u001b[0m, in \u001b[0;36mpick_b\u001b[0;34m(epsilon)\u001b[0m\n\u001b[1;32m      8\u001b[0m B \u001b[38;5;241m=\u001b[39m \u001b[38;5;28mrange\u001b[39m(\u001b[38;5;241m1\u001b[39m, \u001b[38;5;241m1000\u001b[39m)\n\u001b[1;32m      9\u001b[0m Q \u001b[38;5;241m=\u001b[39m [make_query(b) \u001b[38;5;28;01mfor\u001b[39;00m b \u001b[38;5;129;01min\u001b[39;00m B]\n\u001b[0;32m---> 10\u001b[0m idx \u001b[38;5;241m=\u001b[39m \u001b[43mabove_threshold\u001b[49m(Q, adult, \u001b[38;5;241m0\u001b[39m, epsilon)\n\u001b[1;32m     11\u001b[0m \u001b[38;5;28;01mreturn\u001b[39;00m idx\n",
      "\u001b[0;31mNameError\u001b[0m: name 'above_threshold' is not defined"
     ]
    }
   ],
   "source": [
    "# TEST CASE\n",
    "b = pick_b(1.0)\n",
    "assert b > 80\n",
    "assert b < 100"
   ]
  },
  {
   "cell_type": "markdown",
   "metadata": {},
   "source": [
    "## Question 6\n",
    "\n",
    "Implement `above_threshold_val`, which returns the *value* of the first query result above the threshold. Your solution should have a **total privacy cost** of `epsilon`."
   ]
  },
  {
   "cell_type": "code",
   "execution_count": null,
   "metadata": {
    "deletable": false,
    "nbgrader": {
     "cell_type": "code",
     "checksum": "29c947cff0312eaea33089157dcbedb1",
     "grade": false,
     "grade_id": "cell-ebb0d6ecbbe9b894",
     "locked": false,
     "schema_version": 3,
     "solution": true,
     "task": false
    }
   },
   "outputs": [],
   "source": [
    "def make_query(age):\n",
    "    def q(df):\n",
    "        return len(df[df['Age'] == age])\n",
    "    return q\n",
    "\n",
    "def above_threshold_val(queries, df, T, epsilon):\n",
    "    idx = above_threshold(queries, df, T, epsilon)\n",
    "    val = laplace_mech(queries[idx](df), 1, epsilon)\n",
    "    \n",
    "queries = [make_query(age) for age in range(0,100)]\n",
    "above_threshold_val(queries, adult, 800, 1.0)"
   ]
  },
  {
   "cell_type": "code",
   "execution_count": null,
   "metadata": {
    "deletable": false,
    "editable": false,
    "nbgrader": {
     "cell_type": "code",
     "checksum": "2ce5afb5b6fa236ec1be4ac03bddd681",
     "grade": true,
     "grade_id": "cell-f7bb22d7edd54872",
     "locked": true,
     "points": 5,
     "schema_version": 3,
     "solution": false,
     "task": false
    }
   },
   "outputs": [],
   "source": [
    "# TEST CASE\n",
    "queries = [make_query(age) for age in range(0,100)]\n",
    "\n",
    "results = [above_threshold_val(queries, adult, 800, 1.0) for _ in range(20)]\n",
    "assert np.mean(results) > 865\n",
    "assert np.mean(results) < 890"
   ]
  },
  {
   "cell_type": "markdown",
   "metadata": {},
   "source": [
    "## Question 7\n",
    "\n",
    "Argue informally that your solution in question 6 has a total privacy cost of `epsilon`."
   ]
  },
  {
   "cell_type": "markdown",
   "metadata": {
    "deletable": false,
    "nbgrader": {
     "cell_type": "markdown",
     "checksum": "8b5cd8f74f21637b58abc3c70465b813",
     "grade": true,
     "grade_id": "cell-5e2ea1cc5b8e4c8f",
     "locked": false,
     "points": 5,
     "schema_version": 3,
     "solution": true,
     "task": false
    }
   },
   "source": [
    "Two privacy mechanism\n",
    "- Above threshold, privacy cost of epsilon/2\n",
    "- laplace_mech with privacy cost of epsilon/2\n",
    "sequential composition says the total privacy cost is epsilon\n",
    "\n",
    "\n",
    "!! Works great for picking clipping parameters!"
   ]
  },
  {
   "cell_type": "code",
   "execution_count": null,
   "metadata": {},
   "outputs": [],
   "source": []
  }
 ],
 "metadata": {
  "kernelspec": {
   "display_name": "Python 3 (ipykernel)",
   "language": "python",
   "name": "python3"
  },
  "language_info": {
   "codemirror_mode": {
    "name": "ipython",
    "version": 3
   },
   "file_extension": ".py",
   "mimetype": "text/x-python",
   "name": "python",
   "nbconvert_exporter": "python",
   "pygments_lexer": "ipython3",
   "version": "3.10.8"
  }
 },
 "nbformat": 4,
 "nbformat_minor": 4
}
